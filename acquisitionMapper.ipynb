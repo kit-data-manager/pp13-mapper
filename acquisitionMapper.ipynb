{
 "cells": [
  {
   "cell_type": "code",
   "execution_count": 316,
   "id": "818504fd",
   "metadata": {},
   "outputs": [],
   "source": [
    "# import xml.etree.ElementTree as ET\n",
    "# import json\n",
    "\n",
    "# def extract_metadata(emxml_file, json_file):\n",
    "#     # Load JSON file\n",
    "#     with open(json_file, 'r') as f:\n",
    "#         metadata_mapping = json.load(f)\n",
    "\n",
    "#     # Load XML file\n",
    "#     tree = ET.parse(emxml_file)\n",
    "#     root = tree.getroot()\n",
    "\n",
    "#     metadata = {}\n",
    "\n",
    "#     # Extract acquisition metadata\n",
    "#     acquisition_metadata = metadata_mapping.get('acquisition')\n",
    "#     for key, value in acquisition_metadata.items():\n",
    "#         node = root.find(value)\n",
    "#         if node is not None:\n",
    "#             metadata[key] = node.text\n",
    "\n",
    "#     # Extract dataset metadata\n",
    "#     dataset_metadata = metadata_mapping.get('dataset')\n",
    "#     for key, value in dataset_metadata.items():\n",
    "#         node = root.find(value)\n",
    "#         if node is not None:\n",
    "#             metadata[key] = node.text\n",
    "\n",
    "#     # Extract image metadata\n",
    "#     image_metadata = metadata_mapping.get('image')\n",
    "#     for key, value in image_metadata.items():\n",
    "#         node = root.find(value)\n",
    "#         if node is not None:\n",
    "#             metadata[key] = node.text\n",
    "\n",
    "#     return metadata\n",
    "\n",
    "# # Usage example\n",
    "# json_file = '/Users/elias/Desktop/PP13_Mapping/pp13-mapper/schemas/sem_fib_nested_schema_map.json'\n",
    "# emxml_file = '/Users/elias/Desktop/NFDI Tomographiedaten/20200818_AlSi13 XRM tomo2/EMproject.emxml'\n",
    "# metadata = extract_metadata(emxml_file, json_file)\n",
    "# print(metadata)\n"
   ]
  },
  {
   "cell_type": "code",
   "execution_count": 323,
   "id": "537f9637",
   "metadata": {},
   "outputs": [],
   "source": [
    "import json\n",
    "\n",
    "def extract_EM_metadata(json_file):\n",
    "    # Read the JSON file\n",
    "    with open(json_file, 'r') as file:\n",
    "        data = json.load(file)\n",
    "\n",
    "    # Extract the \"acquisition\" information\n",
    "    acquisition_data = data.get('acquisition', {})\n",
    "\n",
    "    # Store key-value pairs starting with \"EMproject\"\n",
    "    EM_metadata = {}\n",
    "    for key, value in acquisition_data.items():\n",
    "        if value.startswith('EMProject'):\n",
    "            EM_metadata[key] = value\n",
    "\n",
    "    return EM_metadata\n",
    "\n",
    "emMetadata = extract_EM_metadata(json_file)\n",
    "\n",
    "# print(type(emMetadata))\n",
    "\n",
    "\n",
    "# for key, value in emMetadata.items():\n",
    "#     print(key + \": \" + value)"
   ]
  },
  {
   "cell_type": "code",
   "execution_count": 325,
   "id": "90ce2a7c",
   "metadata": {},
   "outputs": [],
   "source": [
    "import xml.etree.ElementTree as ET\n",
    "\n",
    "def xml_to_dict(file_path):\n",
    "    def parse_element(element):\n",
    "        result = {}\n",
    "        if len(element) == 0:\n",
    "            return element.text\n",
    "        for child in element:\n",
    "            child_data = parse_element(child)\n",
    "            if '}' in child.tag:\n",
    "                child_tag = child.tag.split('}', 1)[1]  # Remove the namespace\n",
    "            else:\n",
    "                child_tag = child.tag\n",
    "            if child_tag in result:\n",
    "                if type(result[child_tag]) is list:\n",
    "                    result[child_tag].append(child_data)\n",
    "                else:\n",
    "                    result[child_tag] = [result[child_tag], child_data]\n",
    "            else:\n",
    "                result[child_tag] = child_data\n",
    "        return result\n",
    "\n",
    "    tree = ET.parse(file_path)\n",
    "    root = tree.getroot()\n",
    "    root_tag = root.tag\n",
    "    if '}' in root_tag:\n",
    "        root_tag = root_tag.split('}', 1)[1]  # Remove the namespace from the root tag\n",
    "    return {root_tag: parse_element(root)}"
   ]
  },
  {
   "cell_type": "code",
   "execution_count": 326,
   "id": "d0469a77",
   "metadata": {
    "scrolled": false
   },
   "outputs": [],
   "source": [
    "emData = xml_to_dict(emxml_file)"
   ]
  },
  {
   "cell_type": "code",
   "execution_count": 327,
   "id": "76aaf75a",
   "metadata": {},
   "outputs": [],
   "source": [
    "def traverse_dict(data, path):\n",
    "    keys = path.split('.')\n",
    "    result = data\n",
    "    try:\n",
    "        for key in keys:\n",
    "            result = result[key]\n",
    "        return result\n",
    "    except (KeyError, TypeError):\n",
    "        return None"
   ]
  },
  {
   "cell_type": "code",
   "execution_count": 328,
   "id": "5d0905d3",
   "metadata": {},
   "outputs": [],
   "source": [
    "def extract_values(addresses, data, dataset_num = 1):\n",
    "    result = {}\n",
    "    for key, address in addresses.items():\n",
    "        levels = address.split('.')\n",
    "        current_data = data\n",
    "        for level in levels:\n",
    "            if level == 'Dataset':\n",
    "                current_data = current_data[level][dataset_num - 1]\n",
    "            else:\n",
    "                current_data = current_data[level]\n",
    "        result[key] = current_data\n",
    "    return result"
   ]
  },
  {
   "cell_type": "code",
   "execution_count": 329,
   "id": "3ba5d9a8",
   "metadata": {},
   "outputs": [
    {
     "data": {
      "text/plain": [
       "{'acquisition.genericMetadata.program.programName': 'Auto Slice & View 4',\n",
       " 'acquisition.genericMetadata.program.programVersion': '4.2.1.1982',\n",
       " 'acquisition.genericMetadata.applicationId.identifierValue': 'ASV',\n",
       " 'acquisition.genericMetadata.fileVersion': '1.2',\n",
       " 'acquisition.genericMetadata.projectName': '20200818_AlSi13 XRM tomo2',\n",
       " 'acquisition.genericMetadata.zCutSpacing.value': '2.0000000000000002E-07',\n",
       " 'acquisition.genericMetadata.numberOfCuts': '719'}"
      ]
     },
     "execution_count": 329,
     "metadata": {},
     "output_type": "execute_result"
    }
   ],
   "source": [
    "extract_values(emMetadata, emData)"
   ]
  }
 ],
 "metadata": {
  "kernelspec": {
   "display_name": "Python 3 (ipykernel)",
   "language": "python",
   "name": "python3"
  },
  "language_info": {
   "codemirror_mode": {
    "name": "ipython",
    "version": 3
   },
   "file_extension": ".py",
   "mimetype": "text/x-python",
   "name": "python",
   "nbconvert_exporter": "python",
   "pygments_lexer": "ipython3",
   "version": "3.10.9"
  }
 },
 "nbformat": 4,
 "nbformat_minor": 5
}
