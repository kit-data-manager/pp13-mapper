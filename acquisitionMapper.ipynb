{
 "cells": [
  {
   "cell_type": "code",
   "execution_count": 332,
   "id": "d9d6bc0d",
   "metadata": {},
   "outputs": [
    {
     "name": "stdout",
     "output_type": "stream",
     "text": [
      "acquisition.genericMetadata.program.programName: EMProject.ApplicationName\n",
      "acquisition.genericMetadata.program.programVersion: EMProject.ApplicationVersion\n",
      "acquisition.genericMetadata.applicationId.identifierValue: EMProject.ApplicationId\n",
      "acquisition.genericMetadata.fileVersion: EMProject.FileVersion\n",
      "acquisition.genericMetadata.projectName: EMProject.ProjectName\n",
      "acquisition.genericMetadata.zCutSpacing.value: EMProject.ZCutSpacing\n",
      "acquisition.genericMetadata.numberOfCuts: EMProject.Datasets.Dataset.NumberOfCuts\n",
      "acquisition.genericMetadata.pump: Images.SEM Image.SliceImage.System.pump\n",
      "acquisition.genericMetadata.column: Images.SEM Image.SliceImage.System.column\n",
      "acquisition.genericMetadata.source: Images.SEM Image.SliceImage.System.source\n",
      "acquisition.genericMetadata.eucentricWorkingDistance.value: Images.SEM Image.SliceImage.System.eucwd\n",
      "acquisition.genericMetadata.ESEM: Images.SEM Image.SliceImage.System.esem\n",
      "acquisition.genericMetadata.systemType: Images.SEM Image.SliceImage.System.systemtype\n",
      "acquisition.genericMetadata.stage: Images.SEM Image.SliceImage.System.stage\n"
     ]
    }
   ],
   "source": [
    "import json\n",
    "\n",
    "def extract_metadata_addresses(json_file):\n",
    "    # Read the JSON file\n",
    "    with open(json_file, 'r') as file:\n",
    "        data = json.load(file)\n",
    "\n",
    "    # Extract the \"acquisition\" information\n",
    "    acquisition_data = data.get('acquisition', {})\n",
    "\n",
    "    # Store key-value pairs starting with \"EMProject\"\n",
    "    EM_metadata = {}\n",
    "    Image_metadata = {}\n",
    "    for key, value in acquisition_data.items():\n",
    "        if value.startswith('EMProject'):\n",
    "            EM_metadata[key] = value\n",
    "        elif value.startswith('Images'):\n",
    "            Image_metadata[key] = value\n",
    "\n",
    "    return EM_metadata, Image_metadata\n",
    "\n",
    "emMetadata, imgMetadata = extract_metadata_addresses(json_file)\n",
    "\n",
    "# print(type(emMetadata))\n",
    "\n",
    "\n",
    "# for key, value in emMetadata.items():\n",
    "#     print(key + \": \" + value)\n",
    "    \n",
    "    \n",
    "# for key, value in imgMetadata.items():\n",
    "#     print(key + \": \" + value)"
   ]
  },
  {
   "cell_type": "code",
   "execution_count": 325,
   "id": "cc97c64f",
   "metadata": {},
   "outputs": [],
   "source": [
    "import xml.etree.ElementTree as ET\n",
    "\n",
    "def xml_to_dict(file_path):\n",
    "    def parse_element(element):\n",
    "        result = {}\n",
    "        if len(element) == 0:\n",
    "            return element.text\n",
    "        for child in element:\n",
    "            child_data = parse_element(child)\n",
    "            if '}' in child.tag:\n",
    "                child_tag = child.tag.split('}', 1)[1]  # Remove the namespace\n",
    "            else:\n",
    "                child_tag = child.tag\n",
    "            if child_tag in result:\n",
    "                if type(result[child_tag]) is list:\n",
    "                    result[child_tag].append(child_data)\n",
    "                else:\n",
    "                    result[child_tag] = [result[child_tag], child_data]\n",
    "            else:\n",
    "                result[child_tag] = child_data\n",
    "        return result\n",
    "\n",
    "    tree = ET.parse(file_path)\n",
    "    root = tree.getroot()\n",
    "    root_tag = root.tag\n",
    "    if '}' in root_tag:\n",
    "        root_tag = root_tag.split('}', 1)[1]  # Remove the namespace from the root tag\n",
    "    return {root_tag: parse_element(root)}"
   ]
  },
  {
   "cell_type": "code",
   "execution_count": 326,
   "id": "72bc80cc",
   "metadata": {
    "scrolled": false
   },
   "outputs": [],
   "source": [
    "emData = xml_to_dict(emxml_file)"
   ]
  },
  {
   "cell_type": "code",
   "execution_count": 327,
   "id": "9c7ca112",
   "metadata": {},
   "outputs": [],
   "source": [
    "def traverse_dict(data, path):\n",
    "    keys = path.split('.')\n",
    "    result = data\n",
    "    try:\n",
    "        for key in keys:\n",
    "            result = result[key]\n",
    "        return result\n",
    "    except (KeyError, TypeError):\n",
    "        return None"
   ]
  },
  {
   "cell_type": "code",
   "execution_count": 328,
   "id": "551283da",
   "metadata": {},
   "outputs": [],
   "source": [
    "def extract_values(addresses, data, dataset_num = 1):\n",
    "    result = {}\n",
    "    for key, address in addresses.items():\n",
    "        levels = address.split('.')\n",
    "        current_data = data\n",
    "        for level in levels:\n",
    "            # emxml contains multiple instances of \"Dataset\", so it returns a list when asked. We need to tell it\n",
    "            # which dataset we actually want. 1 is SEM Image, 2 is SEM Image 2, and 3 is the one we're not\n",
    "            # interested in. We subtract 1 because indexing begins at zero\n",
    "            if level == 'Dataset':\n",
    "                current_data = current_data[level][dataset_num - 1]\n",
    "            else:\n",
    "                current_data = current_data[level]\n",
    "        result[key] = current_data\n",
    "    return result"
   ]
  },
  {
   "cell_type": "code",
   "execution_count": 345,
   "id": "e8afba3f",
   "metadata": {},
   "outputs": [],
   "source": [
    "mappedEMMetadata = extract_values(emMetadata, emData)"
   ]
  },
  {
   "cell_type": "code",
   "execution_count": 334,
   "id": "af72cb4c",
   "metadata": {},
   "outputs": [],
   "source": [
    "from imageMapper import readFile, formatMetadata, extractImageMappings, extractImageData, headerMapping, writeMetadataToJson"
   ]
  },
  {
   "cell_type": "code",
   "execution_count": 348,
   "id": "42e8d7b5",
   "metadata": {},
   "outputs": [],
   "source": [
    "imgFile = '/Users/elias/Desktop/NFDI Tomographiedaten/20200818_AlSi13 XRM tomo2/Images/SEM Image/SEM Image - SliceImage - 001.tif'\n",
    "image_data = readFile(imgFile)\n",
    "formatted_metadata = formatMetadata(image_data)\n",
    "image_metadata = extractImageData(formatted_metadata, imgMetadata)\n",
    "mappedImgMetadata = headerMapping(image_metadata, imgMetadata)"
   ]
  },
  {
   "cell_type": "code",
   "execution_count": 351,
   "id": "b4eddf84",
   "metadata": {},
   "outputs": [],
   "source": [
    "# Merge the two metadata dictionaries\n",
    "\n",
    "acquisitionMetadata = {**mappedEMMetadata, **mappedImgMetadata}\n",
    "output_path = '/Users/elias/Desktop/PP13_Mapping/pp13-mapper/results/acquisitionMetadata.json'\n",
    "\n",
    "writeMetadataToJson(acquisitionMetadata, output_path)"
   ]
  },
  {
   "cell_type": "code",
   "execution_count": null,
   "id": "118ef622",
   "metadata": {},
   "outputs": [],
   "source": []
  }
 ],
 "metadata": {
  "kernelspec": {
   "display_name": "Python 3 (ipykernel)",
   "language": "python",
   "name": "python3"
  },
  "language_info": {
   "codemirror_mode": {
    "name": "ipython",
    "version": 3
   },
   "file_extension": ".py",
   "mimetype": "text/x-python",
   "name": "python",
   "nbconvert_exporter": "python",
   "pygments_lexer": "ipython3",
   "version": "3.10.9"
  }
 },
 "nbformat": 4,
 "nbformat_minor": 5
}
