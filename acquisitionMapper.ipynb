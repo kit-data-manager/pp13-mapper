{
 "cells": [
  {
   "cell_type": "code",
   "execution_count": 23,
   "id": "edca48cb",
   "metadata": {},
   "outputs": [
    {
     "name": "stdout",
     "output_type": "stream",
     "text": [
      "{}\n"
     ]
    }
   ],
   "source": [
    "import xml.etree.ElementTree as ET\n",
    "import json\n",
    "\n",
    "def extract_metadata(emxml_file, json_file):\n",
    "    # Load JSON file\n",
    "    with open(json_file, 'r') as f:\n",
    "        metadata_mapping = json.load(f)\n",
    "\n",
    "    # Load XML file\n",
    "    tree = ET.parse(emxml_file)\n",
    "    root = tree.getroot()\n",
    "\n",
    "    metadata = {}\n",
    "\n",
    "    # Extract acquisition metadata\n",
    "    acquisition_metadata = metadata_mapping.get('acquisition')\n",
    "    for key, value in acquisition_metadata.items():\n",
    "        node = root.find(value)\n",
    "        if node is not None:\n",
    "            metadata[key] = node.text\n",
    "\n",
    "    # Extract dataset metadata\n",
    "    dataset_metadata = metadata_mapping.get('dataset')\n",
    "    for key, value in dataset_metadata.items():\n",
    "        node = root.find(value)\n",
    "        if node is not None:\n",
    "            metadata[key] = node.text\n",
    "\n",
    "    # Extract image metadata\n",
    "    image_metadata = metadata_mapping.get('image')\n",
    "    for key, value in image_metadata.items():\n",
    "        node = root.find(value)\n",
    "        if node is not None:\n",
    "            metadata[key] = node.text\n",
    "\n",
    "    return metadata\n",
    "\n",
    "# Usage example\n",
    "json_file = '/Users/elias/Desktop/PP13_Mapping/pp13-mapper/schemas/sem_fib_nested_schema_map.json'\n",
    "emxml_file = '/Users/elias/Desktop/NFDI Tomographiedaten/20200818_AlSi13 XRM tomo2/EMproject.emxml'\n",
    "metadata = extract_metadata(emxml_file, json_file)\n",
    "print(metadata)\n"
   ]
  },
  {
   "cell_type": "code",
   "execution_count": 39,
   "id": "76769cf8",
   "metadata": {},
   "outputs": [
    {
     "name": "stdout",
     "output_type": "stream",
     "text": [
      "acquisition.genericMetadata.program.programName: EMproject.ApplicationName\n",
      "acquisition.genericMetadata.program.programVersion: EMproject.ApplicationVersion\n",
      "acquisition.genericMetadata.applicationId.identifierValue: EMproject.ApplicationId\n",
      "acquisition.genericMetadata.fileVersion: EMproject.FileVersion\n",
      "acquisition.genericMetadata.projectName: EMproject.ProjectName\n",
      "acquisition.genericMetadata.zCutSpacing.value: EMproject.ZCutSpacing\n",
      "acquisition.genericMetadata.numberOfCuts: EMproject.DataSets.Dataset.NumberOfCuts\n"
     ]
    }
   ],
   "source": [
    "import json\n",
    "\n",
    "def extract_EM_metadata(json_file):\n",
    "    # Read the JSON file\n",
    "    with open(json_file, 'r') as file:\n",
    "        data = json.load(file)\n",
    "\n",
    "    # Extract the \"acquisition\" information\n",
    "    acquisition_data = data.get('acquisition', {})\n",
    "\n",
    "    # Store key-value pairs starting with \"EMproject\"\n",
    "    EM_metadata = {}\n",
    "    for key, value in acquisition_data.items():\n",
    "        if value.startswith('EMproject'):\n",
    "            EM_metadata[key] = value\n",
    "\n",
    "    return EM_metadata\n",
    "\n",
    "emMetadata = extract_EM_metadata(json_file)\n",
    "\n",
    "\n",
    "# Print each key-value pair in a new line\n",
    "for key, value in emMetadata.items():\n",
    "    print(key + \": \" + value)"
   ]
  },
  {
   "cell_type": "code",
   "execution_count": 87,
   "id": "63509736",
   "metadata": {},
   "outputs": [],
   "source": [
    "import xml.etree.ElementTree as ET\n",
    "\n",
    "def extract_values_from_emxml(EM_metadata, emxml_file):\n",
    "    # Read the emxml file\n",
    "    tree = ET.parse(emxml_file)\n",
    "    root = tree.getroot()\n",
    "\n",
    "    # Extract the namespace from the root element\n",
    "    namespace = root.tag.split('}')[0] + '}'\n",
    "\n",
    "    # Initialize dictionary to store extracted values\n",
    "    extracted_values = {}\n",
    "\n",
    "    # Extract values based on EM_metadata keys\n",
    "    for key, value in EM_metadata.items():\n",
    "        # Split the value by dot separator to get the hierarchy levels\n",
    "        levels = value.split('.')\n",
    "        element = root\n",
    "\n",
    "        try:\n",
    "            # Traverse through the hierarchy levels\n",
    "            for level in levels:\n",
    "                element = element.find(namespace + level)\n",
    "\n",
    "                if element is None:\n",
    "                    # If any level is not found, skip further processing for this key\n",
    "                    raise Exception(f\"Level '{level}' not found in XML\")\n",
    "\n",
    "            extracted_value = element.text if element is not None else None\n",
    "            extracted_values[key] = extracted_value\n",
    "\n",
    "        except Exception as e:\n",
    "            print(f\"Error extracting value for key '{key}': {str(e)}\")\n",
    "\n",
    "    return extracted_values\n"
   ]
  },
  {
   "cell_type": "code",
   "execution_count": 88,
   "id": "65576d1a",
   "metadata": {},
   "outputs": [
    {
     "name": "stdout",
     "output_type": "stream",
     "text": [
      "Error extracting value for key 'acquisition.genericMetadata.program.programName': Level 'EMproject' not found in XML\n",
      "Error extracting value for key 'acquisition.genericMetadata.program.programVersion': Level 'EMproject' not found in XML\n",
      "Error extracting value for key 'acquisition.genericMetadata.applicationId.identifierValue': Level 'EMproject' not found in XML\n",
      "Error extracting value for key 'acquisition.genericMetadata.fileVersion': Level 'EMproject' not found in XML\n",
      "Error extracting value for key 'acquisition.genericMetadata.projectName': Level 'EMproject' not found in XML\n",
      "Error extracting value for key 'acquisition.genericMetadata.zCutSpacing.value': Level 'EMproject' not found in XML\n",
      "Error extracting value for key 'acquisition.genericMetadata.numberOfCuts': Level 'EMproject' not found in XML\n"
     ]
    },
    {
     "data": {
      "text/plain": [
       "{}"
      ]
     },
     "execution_count": 88,
     "metadata": {},
     "output_type": "execute_result"
    }
   ],
   "source": [
    "extract_values_from_emxml(emMetadata, emxml_file)"
   ]
  }
 ],
 "metadata": {
  "kernelspec": {
   "display_name": "Python 3 (ipykernel)",
   "language": "python",
   "name": "python3"
  },
  "language_info": {
   "codemirror_mode": {
    "name": "ipython",
    "version": 3
   },
   "file_extension": ".py",
   "mimetype": "text/x-python",
   "name": "python",
   "nbconvert_exporter": "python",
   "pygments_lexer": "ipython3",
   "version": "3.10.9"
  }
 },
 "nbformat": 4,
 "nbformat_minor": 5
}
