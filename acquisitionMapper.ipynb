{
 "cells": [
  {
   "cell_type": "code",
   "execution_count": 300,
   "id": "92eed07c",
   "metadata": {},
   "outputs": [
    {
     "name": "stdout",
     "output_type": "stream",
     "text": [
      "{}\n"
     ]
    }
   ],
   "source": [
    "import xml.etree.ElementTree as ET\n",
    "import json\n",
    "\n",
    "def extract_metadata(emxml_file, json_file):\n",
    "    # Load JSON file\n",
    "    with open(json_file, 'r') as f:\n",
    "        metadata_mapping = json.load(f)\n",
    "\n",
    "    # Load XML file\n",
    "    tree = ET.parse(emxml_file)\n",
    "    root = tree.getroot()\n",
    "\n",
    "    metadata = {}\n",
    "\n",
    "    # Extract acquisition metadata\n",
    "    acquisition_metadata = metadata_mapping.get('acquisition')\n",
    "    for key, value in acquisition_metadata.items():\n",
    "        node = root.find(value)\n",
    "        if node is not None:\n",
    "            metadata[key] = node.text\n",
    "\n",
    "    # Extract dataset metadata\n",
    "    dataset_metadata = metadata_mapping.get('dataset')\n",
    "    for key, value in dataset_metadata.items():\n",
    "        node = root.find(value)\n",
    "        if node is not None:\n",
    "            metadata[key] = node.text\n",
    "\n",
    "    # Extract image metadata\n",
    "    image_metadata = metadata_mapping.get('image')\n",
    "    for key, value in image_metadata.items():\n",
    "        node = root.find(value)\n",
    "        if node is not None:\n",
    "            metadata[key] = node.text\n",
    "\n",
    "    return metadata\n",
    "\n",
    "# Usage example\n",
    "json_file = '/Users/elias/Desktop/PP13_Mapping/pp13-mapper/schemas/sem_fib_nested_schema_map.json'\n",
    "emxml_file = '/Users/elias/Desktop/NFDI Tomographiedaten/20200818_AlSi13 XRM tomo2/EMproject.emxml'\n",
    "metadata = extract_metadata(emxml_file, json_file)\n",
    "print(metadata)\n"
   ]
  },
  {
   "cell_type": "code",
   "execution_count": 301,
   "id": "2009a2a6",
   "metadata": {},
   "outputs": [
    {
     "name": "stdout",
     "output_type": "stream",
     "text": [
      "<class 'dict'>\n",
      "acquisition.genericMetadata.program.programName: EMProject.ApplicationName\n",
      "acquisition.genericMetadata.program.programVersion: EMProject.ApplicationVersion\n",
      "acquisition.genericMetadata.applicationId.identifierValue: EMProject.ApplicationId\n",
      "acquisition.genericMetadata.fileVersion: EMProject.FileVersion\n",
      "acquisition.genericMetadata.projectName: EMProject.ProjectName\n",
      "acquisition.genericMetadata.zCutSpacing.value: EMProject.ZCutSpacing\n",
      "acquisition.genericMetadata.numberOfCuts: EMProject.Datasets.Dataset.NumberOfCuts\n"
     ]
    }
   ],
   "source": [
    "import json\n",
    "\n",
    "def extract_EM_metadata(json_file):\n",
    "    # Read the JSON file\n",
    "    with open(json_file, 'r') as file:\n",
    "        data = json.load(file)\n",
    "\n",
    "    # Extract the \"acquisition\" information\n",
    "    acquisition_data = data.get('acquisition', {})\n",
    "\n",
    "    # Store key-value pairs starting with \"EMproject\"\n",
    "    EM_metadata = {}\n",
    "    for key, value in acquisition_data.items():\n",
    "        if value.startswith('EMProject'):\n",
    "            EM_metadata[key] = value\n",
    "\n",
    "    return EM_metadata\n",
    "\n",
    "emMetadata = extract_EM_metadata(json_file)\n",
    "\n",
    "print(type(emMetadata))\n",
    "\n",
    "\n",
    "# Print each key-value pair in a new line\n",
    "for key, value in emMetadata.items():\n",
    "    print(key + \": \" + value)"
   ]
  },
  {
   "cell_type": "code",
   "execution_count": 302,
   "id": "91725140",
   "metadata": {},
   "outputs": [],
   "source": [
    "import xml.etree.ElementTree as ET\n",
    "\n",
    "def xml_to_dict(file_path):\n",
    "    def parse_element(element):\n",
    "        result = {}\n",
    "        if len(element) == 0:\n",
    "            return element.text\n",
    "        for child in element:\n",
    "            child_data = parse_element(child)\n",
    "            if '}' in child.tag:\n",
    "                child_tag = child.tag.split('}', 1)[1]  # Remove the namespace\n",
    "            else:\n",
    "                child_tag = child.tag\n",
    "            if child_tag in result:\n",
    "                if type(result[child_tag]) is list:\n",
    "                    result[child_tag].append(child_data)\n",
    "                else:\n",
    "                    result[child_tag] = [result[child_tag], child_data]\n",
    "            else:\n",
    "                result[child_tag] = child_data\n",
    "        return result\n",
    "\n",
    "    tree = ET.parse(file_path)\n",
    "    root = tree.getroot()\n",
    "    root_tag = root.tag\n",
    "    if '}' in root_tag:\n",
    "        root_tag = root_tag.split('}', 1)[1]  # Remove the namespace from the root tag\n",
    "    return {root_tag: parse_element(root)}\n"
   ]
  },
  {
   "cell_type": "code",
   "execution_count": 303,
   "id": "1a62aa9b",
   "metadata": {
    "scrolled": false
   },
   "outputs": [
    {
     "data": {
      "text/plain": [
       "{'EMProject': {'ApplicationName': 'Auto Slice & View 4',\n",
       "  'ApplicationVersion': '4.2.1.1982',\n",
       "  'ApplicationId': 'ASV',\n",
       "  'FileVersion': '1.2',\n",
       "  'ProjectName': '20200818_AlSi13 XRM tomo2',\n",
       "  'ViewerRotation': '0',\n",
       "  'ZCutSpacing': '2.0000000000000002E-07',\n",
       "  'Datasets': {'Dataset': [{'Id': '1',\n",
       "     'Name': 'SEM Image',\n",
       "     'Is2d': 'false',\n",
       "     'BoxCenter': {'CenterX': '0',\n",
       "      'CenterY': '0',\n",
       "      'CenterZ': '7.1867700987306052E-05'},\n",
       "     'BoxSize': {'SizeX': '0.00017999999999999998',\n",
       "      'SizeY': '8.4999999999999993E-05',\n",
       "      'SizeZ': '0.0001437354019746121'},\n",
       "     'RotationAngle': '0',\n",
       "     'Rows': '1',\n",
       "     'Columns': '1',\n",
       "     'OverlapX': '0',\n",
       "     'OverlapY': '0',\n",
       "     'Status': 'Finished',\n",
       "     'NumberOfCuts': '719',\n",
       "     'EnergyLevels': '1',\n",
       "     'LiveAcquisition': {'ImagesPath': 'D:\\\\ASV\\\\20200818_AlSi13 XRM tomo2\\\\Images\\\\SEM Image',\n",
       "      'TileColumn': '0',\n",
       "      'TileRow': '0',\n",
       "      'DisplayedEnergyLevel': '1'}},\n",
       "    {'Id': '2',\n",
       "     'Name': 'SEM Image 2',\n",
       "     'Is2d': 'false',\n",
       "     'BoxCenter': {'CenterX': '0',\n",
       "      'CenterY': '0',\n",
       "      'CenterZ': '7.1867700987306052E-05'},\n",
       "     'BoxSize': {'SizeX': '0.00017999999999999998',\n",
       "      'SizeY': '8.4999999999999993E-05',\n",
       "      'SizeZ': '0.0001437354019746121'},\n",
       "     'RotationAngle': '0',\n",
       "     'Rows': '1',\n",
       "     'Columns': '1',\n",
       "     'OverlapX': '0',\n",
       "     'OverlapY': '0',\n",
       "     'Status': 'Finished',\n",
       "     'NumberOfCuts': '719',\n",
       "     'EnergyLevels': '1',\n",
       "     'LiveAcquisition': {'ImagesPath': 'D:\\\\ASV\\\\20200818_AlSi13 XRM tomo2\\\\Images\\\\SEM Image 2',\n",
       "      'TileColumn': '0',\n",
       "      'TileRow': '0',\n",
       "      'DisplayedEnergyLevel': '1'}},\n",
       "    {'Id': '3',\n",
       "     'Name': 'EDS',\n",
       "     'Is2d': 'false',\n",
       "     'BoxCenter': {'CenterX': '0',\n",
       "      'CenterY': '0',\n",
       "      'CenterZ': '7.1867700987306052E-05'},\n",
       "     'BoxSize': {'SizeX': '0.00017999999999999998',\n",
       "      'SizeY': '8.4999999999999993E-05',\n",
       "      'SizeZ': '0.0001437354019746121'},\n",
       "     'RotationAngle': '0',\n",
       "     'Rows': '1',\n",
       "     'Columns': '1',\n",
       "     'OverlapX': '0',\n",
       "     'OverlapY': '0',\n",
       "     'Status': 'Finished',\n",
       "     'NumberOfCuts': '719',\n",
       "     'EnergyLevels': '1',\n",
       "     'LiveAcquisition': {'ImagesPath': 'D:\\\\ASV\\\\20200818_AlSi13 XRM tomo2\\\\Images\\\\EDS',\n",
       "      'TileColumn': '0',\n",
       "      'TileRow': '0',\n",
       "      'DisplayedEnergyLevel': '1'}}]}}}"
      ]
     },
     "execution_count": 303,
     "metadata": {},
     "output_type": "execute_result"
    }
   ],
   "source": [
    "emData = xml_to_dict(emxml_file)\n",
    "emData"
   ]
  },
  {
   "cell_type": "code",
   "execution_count": 304,
   "id": "2db915d0",
   "metadata": {},
   "outputs": [],
   "source": [
    "# emData['EMProject']['Datasets']['Dataset']\n",
    "#EMproject.DataSets.Dataset.NumberOfCuts"
   ]
  },
  {
   "cell_type": "code",
   "execution_count": 305,
   "id": "e7aa9f6a",
   "metadata": {},
   "outputs": [],
   "source": [
    "def traverse_dict(data, path):\n",
    "    keys = path.split('.')\n",
    "    result = data\n",
    "    try:\n",
    "        for key in keys:\n",
    "            result = result[key]\n",
    "        return result\n",
    "    except (KeyError, TypeError):\n",
    "        return None"
   ]
  },
  {
   "cell_type": "code",
   "execution_count": 306,
   "id": "16854cfc",
   "metadata": {},
   "outputs": [
    {
     "data": {
      "text/plain": [
       "'Auto Slice & View 4'"
      ]
     },
     "execution_count": 306,
     "metadata": {},
     "output_type": "execute_result"
    }
   ],
   "source": [
    "traverse_dict(emData, 'EMProject.ApplicationName')"
   ]
  },
  {
   "cell_type": "code",
   "execution_count": 307,
   "id": "758362aa",
   "metadata": {},
   "outputs": [],
   "source": [
    "# def extract_values(addresses, nested_dict):\n",
    "#     result = {}\n",
    "#     for key, address in addresses.items():\n",
    "#         value = traverse_dict(nested_dict, address)\n",
    "#         print(f\"Address: {address}, Value: {value}\")\n",
    "#         result[address] = value\n",
    "#     return result\n"
   ]
  },
  {
   "cell_type": "code",
   "execution_count": 308,
   "id": "9d0bdca2",
   "metadata": {},
   "outputs": [
    {
     "name": "stdout",
     "output_type": "stream",
     "text": [
      "Address: EMProject.ApplicationName, Value: Auto Slice & View 4\n",
      "Address: EMProject.ApplicationVersion, Value: 4.2.1.1982\n",
      "Address: EMProject.ApplicationId, Value: ASV\n",
      "Address: EMProject.FileVersion, Value: 1.2\n",
      "Address: EMProject.ProjectName, Value: 20200818_AlSi13 XRM tomo2\n",
      "Address: EMProject.ZCutSpacing, Value: 2.0000000000000002E-07\n",
      "Address: EMProject.Datasets.Dataset.NumberOfCuts, Value: None\n"
     ]
    },
    {
     "data": {
      "text/plain": [
       "{'EMProject.ApplicationName': 'Auto Slice & View 4',\n",
       " 'EMProject.ApplicationVersion': '4.2.1.1982',\n",
       " 'EMProject.ApplicationId': 'ASV',\n",
       " 'EMProject.FileVersion': '1.2',\n",
       " 'EMProject.ProjectName': '20200818_AlSi13 XRM tomo2',\n",
       " 'EMProject.ZCutSpacing': '2.0000000000000002E-07',\n",
       " 'EMProject.Datasets.Dataset.NumberOfCuts': None}"
      ]
     },
     "execution_count": 308,
     "metadata": {},
     "output_type": "execute_result"
    }
   ],
   "source": [
    "extract_values(emMetadata, emData)"
   ]
  }
 ],
 "metadata": {
  "kernelspec": {
   "display_name": "Python 3 (ipykernel)",
   "language": "python",
   "name": "python3"
  },
  "language_info": {
   "codemirror_mode": {
    "name": "ipython",
    "version": 3
   },
   "file_extension": ".py",
   "mimetype": "text/x-python",
   "name": "python",
   "nbconvert_exporter": "python",
   "pygments_lexer": "ipython3",
   "version": "3.10.9"
  }
 },
 "nbformat": 4,
 "nbformat_minor": 5
}
