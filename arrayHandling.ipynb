{
 "cells": [
  {
   "cell_type": "markdown",
   "id": "0b6239e2",
   "metadata": {},
   "source": [
    "### This notebook is used to test array handling for the whole dataset\n",
    "\n",
    "First, we get the metadata that is not stored in any array. This is the \"acquisition\" metadata, and we obtain it based on the acquisition schema."
   ]
  },
  {
   "cell_type": "code",
   "execution_count": 1,
   "id": "4e1739e1",
   "metadata": {},
   "outputs": [],
   "source": [
    "from acquisitionMapper import extract_metadata_addresses"
   ]
  },
  {
   "cell_type": "code",
   "execution_count": 2,
   "id": "5fa19bde",
   "metadata": {},
   "outputs": [],
   "source": [
    "mapFile = '/Users/elias/Desktop/PP13_Mapping/pp13-mapper/schemas/new_sem_fib_nested_schema_map.json'\n",
    "\n",
    "xmlMap, imgMap = extract_metadata_addresses(mapFile)"
   ]
  },
  {
   "cell_type": "markdown",
   "id": "d403c1d1",
   "metadata": {},
   "source": [
    "The metadata map is split up into \"addresses\" which point to the acquisition's provided xml file, and ones which we can get from one of the images of the entire acquisition. \n",
    "\n",
    "Next, we read in the xml file as a python dictionary:"
   ]
  },
  {
   "cell_type": "code",
   "execution_count": 3,
   "id": "6d9171a6",
   "metadata": {},
   "outputs": [],
   "source": [
    "from acquisitionMapper import xml_to_dict"
   ]
  },
  {
   "cell_type": "code",
   "execution_count": 4,
   "id": "518159d5",
   "metadata": {},
   "outputs": [],
   "source": [
    "xmlFile = '/Users/elias/Desktop/NFDI Tomographiedaten/20200818_AlSi13 XRM tomo2/EMproject.emxml'\n",
    "xmlMetadata = xml_to_dict(xmlFile)"
   ]
  },
  {
   "cell_type": "markdown",
   "id": "c3ea6063",
   "metadata": {},
   "source": [
    "Then, we want the metadata specified by our map from the xml file:"
   ]
  },
  {
   "cell_type": "code",
   "execution_count": 5,
   "id": "06495e4e",
   "metadata": {},
   "outputs": [],
   "source": [
    "from acquisitionMapper import extract_values\n",
    "\n",
    "acqXmlMetadata = extract_values(xmlMap, xmlMetadata)"
   ]
  },
  {
   "cell_type": "markdown",
   "id": "369a1322",
   "metadata": {},
   "source": [
    "This results in formatted metadata from the xml into a mapped dictionary containing keys which are the json addresses and values taken from the xml file.\n",
    "\n",
    "The next step is to obtain the acquisition data from one of the images. For this we read an image file, doesn't matter which as this data should be common to all images in the acquisition."
   ]
  },
  {
   "cell_type": "code",
   "execution_count": 6,
   "id": "ebdd8a8d",
   "metadata": {},
   "outputs": [],
   "source": [
    "from imageMapper import readFile, formatMetadata, extractImageMappings, extractImageData, headerMapping\n",
    "\n",
    "imgFile = '/Users/elias/Desktop/NFDI Tomographiedaten/20200818_AlSi13 XRM tomo2/Images/SEM Image/SEM Image - SliceImage - 001.tif'\n",
    "\n",
    "imgMetadata = readFile(imgFile)"
   ]
  },
  {
   "cell_type": "markdown",
   "id": "dbd0eb74",
   "metadata": {},
   "source": [
    "Then it must be properly formatted:"
   ]
  },
  {
   "cell_type": "code",
   "execution_count": 7,
   "id": "32c10898",
   "metadata": {},
   "outputs": [
    {
     "data": {
      "text/plain": [
       "{'Images.SEM Image.SliceImage.User.date': '08/18/2020',\n",
       " 'Images.SEM Image.SliceImage.User.time': '01:40:03 PM',\n",
       " 'Images.SEM Image.SliceImage.User.user': 'user',\n",
       " 'Images.SEM Image.SliceImage.User.usertext': '',\n",
       " 'Images.SEM Image.SliceImage.User.usertextunicode': '',\n",
       " 'Images.SEM Image.SliceImage.System.type': 'DualBeam',\n",
       " 'Images.SEM Image.SliceImage.System.dnumber': '9952707',\n",
       " 'Images.SEM Image.SliceImage.System.software': '14.5.1.432',\n",
       " 'Images.SEM Image.SliceImage.System.buildnr': '432',\n",
       " 'Images.SEM Image.SliceImage.System.source': 'FEG',\n",
       " 'Images.SEM Image.SliceImage.System.column': 'Elstar',\n",
       " 'Images.SEM Image.SliceImage.System.finallens': 'Elstar',\n",
       " 'Images.SEM Image.SliceImage.System.chamber': 'xT-SDB',\n",
       " 'Images.SEM Image.SliceImage.System.stage': '110 x 110',\n",
       " 'Images.SEM Image.SliceImage.System.pump': 'TMP',\n",
       " 'Images.SEM Image.SliceImage.System.esem': 'no',\n",
       " 'Images.SEM Image.SliceImage.System.aperture': 'AVA',\n",
       " 'Images.SEM Image.SliceImage.System.scan': 'PIA 3.0',\n",
       " 'Images.SEM Image.SliceImage.System.acq': 'PIA 3.0',\n",
       " 'Images.SEM Image.SliceImage.System.eucwd': '0.004',\n",
       " 'Images.SEM Image.SliceImage.System.systemtype': 'Helios G4 PFIB CXe',\n",
       " 'Images.SEM Image.SliceImage.System.displaywidth': '0.518',\n",
       " 'Images.SEM Image.SliceImage.System.displayheight': '0.324',\n",
       " 'Images.SEM Image.SliceImage.Beam.hv': '15000',\n",
       " 'Images.SEM Image.SliceImage.Beam.spot': '1',\n",
       " 'Images.SEM Image.SliceImage.Beam.stigmatorx': '0.0153243',\n",
       " 'Images.SEM Image.SliceImage.Beam.stigmatory': '0.00747505',\n",
       " 'Images.SEM Image.SliceImage.Beam.beamshiftx': '4.53441e-009',\n",
       " 'Images.SEM Image.SliceImage.Beam.beamshifty': '7.39361e-006',\n",
       " 'Images.SEM Image.SliceImage.Beam.scanrotation': '0',\n",
       " 'Images.SEM Image.SliceImage.Beam.imagemode': 'Normal',\n",
       " 'Images.SEM Image.SliceImage.Beam.finestagebias': '',\n",
       " 'Images.SEM Image.SliceImage.Beam.beam': 'EBeam',\n",
       " 'Images.SEM Image.SliceImage.Beam.scan': 'EScan',\n",
       " 'Images.SEM Image.SliceImage.EBeam.source': 'FEG',\n",
       " 'Images.SEM Image.SliceImage.EBeam.columntype': 'Elstar',\n",
       " 'Images.SEM Image.SliceImage.EBeam.finallens': 'Elstar',\n",
       " 'Images.SEM Image.SliceImage.EBeam.acq': 'PIA 3.0',\n",
       " 'Images.SEM Image.SliceImage.EBeam.aperture': 'AVA',\n",
       " 'Images.SEM Image.SliceImage.EBeam.aperturediameter': '4.53e-005',\n",
       " 'Images.SEM Image.SliceImage.EBeam.hv': '15000',\n",
       " 'Images.SEM Image.SliceImage.EBeam.hfw': '0.000592',\n",
       " 'Images.SEM Image.SliceImage.EBeam.vfw': '0.000394667',\n",
       " 'Images.SEM Image.SliceImage.EBeam.wd': '0.00402349',\n",
       " 'Images.SEM Image.SliceImage.EBeam.beamcurrent': '1.6e-009',\n",
       " 'Images.SEM Image.SliceImage.EBeam.tiltcorrectionison': 'no',\n",
       " 'Images.SEM Image.SliceImage.EBeam.dynamicfocusison': 'no',\n",
       " 'Images.SEM Image.SliceImage.EBeam.dynamicwdison': '',\n",
       " 'Images.SEM Image.SliceImage.EBeam.scanrotation': '0',\n",
       " 'Images.SEM Image.SliceImage.EBeam.lensmode': 'Field-Free',\n",
       " 'Images.SEM Image.SliceImage.EBeam.lensmodea': '',\n",
       " 'Images.SEM Image.SliceImage.EBeam.atubevoltage': '',\n",
       " 'Images.SEM Image.SliceImage.EBeam.usecase': '',\n",
       " 'Images.SEM Image.SliceImage.EBeam.semopticalmode': '',\n",
       " 'Images.SEM Image.SliceImage.EBeam.imagemode': 'Normal',\n",
       " 'Images.SEM Image.SliceImage.EBeam.sourcetiltx': '-0.000607639',\n",
       " 'Images.SEM Image.SliceImage.EBeam.sourcetilty': '0.00222222',\n",
       " 'Images.SEM Image.SliceImage.EBeam.stagex': '0.000225267',\n",
       " 'Images.SEM Image.SliceImage.EBeam.stagey': '-0.00468056',\n",
       " 'Images.SEM Image.SliceImage.EBeam.stagez': '0.00402333',\n",
       " 'Images.SEM Image.SliceImage.EBeam.stager': '0.648119',\n",
       " 'Images.SEM Image.SliceImage.EBeam.stageta': '0.336851',\n",
       " 'Images.SEM Image.SliceImage.EBeam.stagetb': '0',\n",
       " 'Images.SEM Image.SliceImage.EBeam.stigmatorx': '0.0153243',\n",
       " 'Images.SEM Image.SliceImage.EBeam.stigmatory': '0.00747505',\n",
       " 'Images.SEM Image.SliceImage.EBeam.beamshiftx': '4.53441e-009',\n",
       " 'Images.SEM Image.SliceImage.EBeam.beamshifty': '7.39361e-006',\n",
       " 'Images.SEM Image.SliceImage.EBeam.eucwd': '0.004',\n",
       " 'Images.SEM Image.SliceImage.EBeam.emissioncurrent': '',\n",
       " 'Images.SEM Image.SliceImage.EBeam.tiltcorrectionangle': '0.977384',\n",
       " 'Images.SEM Image.SliceImage.EBeam.pretilt': '',\n",
       " 'Images.SEM Image.SliceImage.EBeam.wehneltbias': '',\n",
       " 'Images.SEM Image.SliceImage.EBeam.beammode': 'N-Beam',\n",
       " 'Images.SEM Image.SliceImage.EBeam.magnificationcorrection': 'Off',\n",
       " 'Images.SEM Image.SliceImage.GIS.number': '0',\n",
       " 'Images.SEM Image.SliceImage.Scan.internalscan': 'true',\n",
       " 'Images.SEM Image.SliceImage.Scan.dwelltime': '3e-007',\n",
       " 'Images.SEM Image.SliceImage.Scan.pixelwidth': '3.85417e-007',\n",
       " 'Images.SEM Image.SliceImage.Scan.pixelheight': '3.85417e-007',\n",
       " 'Images.SEM Image.SliceImage.Scan.horfieldsize': '0.000592',\n",
       " 'Images.SEM Image.SliceImage.Scan.verfieldsize': '0.000394667',\n",
       " 'Images.SEM Image.SliceImage.Scan.average': '0',\n",
       " 'Images.SEM Image.SliceImage.Scan.integrate': '0',\n",
       " 'Images.SEM Image.SliceImage.Scan.frametime': '0.494592',\n",
       " 'Images.SEM Image.SliceImage.EScan.scan': 'PIA 3.0',\n",
       " 'Images.SEM Image.SliceImage.EScan.internalscan': 'true',\n",
       " 'Images.SEM Image.SliceImage.EScan.dwell': '3e-007',\n",
       " 'Images.SEM Image.SliceImage.EScan.pixelwidth': '3.85417e-007',\n",
       " 'Images.SEM Image.SliceImage.EScan.pixelheight': '3.85417e-007',\n",
       " 'Images.SEM Image.SliceImage.EScan.horfieldsize': '0.000592',\n",
       " 'Images.SEM Image.SliceImage.EScan.verfieldsize': '0.000394667',\n",
       " 'Images.SEM Image.SliceImage.EScan.frametime': '0.494592',\n",
       " 'Images.SEM Image.SliceImage.EScan.linetime': '0.000483',\n",
       " 'Images.SEM Image.SliceImage.EScan.mainslock': 'Off',\n",
       " 'Images.SEM Image.SliceImage.EScan.lineintegration': '1',\n",
       " 'Images.SEM Image.SliceImage.EScan.scaninterlacing': '1',\n",
       " 'Images.SEM Image.SliceImage.Stage.stagex': '0.000225271',\n",
       " 'Images.SEM Image.SliceImage.Stage.stagey': '-0.00467317',\n",
       " 'Images.SEM Image.SliceImage.Stage.stagez': '0.00402333',\n",
       " 'Images.SEM Image.SliceImage.Stage.stager': '0.648119',\n",
       " 'Images.SEM Image.SliceImage.Stage.staget': '0.336851',\n",
       " 'Images.SEM Image.SliceImage.Stage.stagetb': '0',\n",
       " 'Images.SEM Image.SliceImage.Stage.spectilt': '',\n",
       " 'Images.SEM Image.SliceImage.Stage.workingdistance': '0.00402349',\n",
       " 'Images.SEM Image.SliceImage.Stage.activestage': 'Bulk',\n",
       " 'Images.SEM Image.SliceImage.Image.digitalcontrast': '1',\n",
       " 'Images.SEM Image.SliceImage.Image.digitalbrightness': '0',\n",
       " 'Images.SEM Image.SliceImage.Image.digitalgamma': '1',\n",
       " 'Images.SEM Image.SliceImage.Image.average': '0',\n",
       " 'Images.SEM Image.SliceImage.Image.integrate': '0',\n",
       " 'Images.SEM Image.SliceImage.Image.resolutionx': '1536',\n",
       " 'Images.SEM Image.SliceImage.Image.resolutiony': '1024',\n",
       " 'Images.SEM Image.SliceImage.Image.driftcorrected': 'Off',\n",
       " 'Images.SEM Image.SliceImage.Image.zoomfactor': '1.0',\n",
       " 'Images.SEM Image.SliceImage.Image.zoompanx': '',\n",
       " 'Images.SEM Image.SliceImage.Image.zoompany': '',\n",
       " 'Images.SEM Image.SliceImage.Image.magcanvasrealwidth': '',\n",
       " 'Images.SEM Image.SliceImage.Image.magnificationmode': '',\n",
       " 'Images.SEM Image.SliceImage.Image.screenmagcanvasrealwidth': '',\n",
       " 'Images.SEM Image.SliceImage.Image.screenmagnificationmode': '',\n",
       " 'Images.SEM Image.SliceImage.Image.postprocessing': '',\n",
       " 'Images.SEM Image.SliceImage.Image.transformation': '',\n",
       " 'Images.SEM Image.SliceImage.Vacuum.chpressure': '0.00012',\n",
       " 'Images.SEM Image.SliceImage.Vacuum.gas': '',\n",
       " 'Images.SEM Image.SliceImage.Vacuum.usermode': 'High vacuum',\n",
       " 'Images.SEM Image.SliceImage.Vacuum.humidity': '',\n",
       " 'Images.SEM Image.SliceImage.Specimen.temperature': '',\n",
       " 'Images.SEM Image.SliceImage.Specimen.specimencurrent': '-9.45602e-010',\n",
       " 'Images.SEM Image.SliceImage.Detectors.number': '1',\n",
       " 'Images.SEM Image.SliceImage.Detectors.name': 'ETD',\n",
       " 'Images.SEM Image.SliceImage.Detectors.mode': '',\n",
       " 'Images.SEM Image.SliceImage.ETD.contrast': '56.4171',\n",
       " 'Images.SEM Image.SliceImage.ETD.brightness': '38.6334',\n",
       " 'Images.SEM Image.SliceImage.ETD.mix': '100',\n",
       " 'Images.SEM Image.SliceImage.ETD.signal': '',\n",
       " 'Images.SEM Image.SliceImage.ETD.grid': '250',\n",
       " 'Images.SEM Image.SliceImage.ETD.contrastdb': '19.5634',\n",
       " 'Images.SEM Image.SliceImage.ETD.brightnessdb': '-2.72812',\n",
       " 'Images.SEM Image.SliceImage.ETD.setting': '250',\n",
       " 'Images.SEM Image.SliceImage.ETD.minimumdwelltime': '1e-007',\n",
       " 'Images.SEM Image.SliceImage.Accessories.number': '0',\n",
       " 'Images.SEM Image.SliceImage.PrivateFei.bitshift': '0',\n",
       " 'Images.SEM Image.SliceImage.PrivateFei.databarselected': '',\n",
       " 'Images.SEM Image.SliceImage.PrivateFei.databaravailable': '',\n",
       " 'Images.SEM Image.SliceImage.PrivateFei.timeofcreation': '18.08.2020 13:40:03',\n",
       " 'Images.SEM Image.SliceImage.PrivateFei.databarheight': '',\n",
       " 'Images.SEM Image.SliceImage.HiResIllumination.brightfieldison': '',\n",
       " 'Images.SEM Image.SliceImage.HiResIllumination.brightfieldvalue': '',\n",
       " 'Images.SEM Image.SliceImage.HiResIllumination.darkfieldison': '',\n",
       " 'Images.SEM Image.SliceImage.HiResIllumination.darkfieldvalue': '',\n",
       " 'Images.SEM Image.SliceImage.EasyLift.rotation': '0',\n",
       " 'Images.SEM Image.SliceImage.HotStageMEMS.heatingcurrent': '',\n",
       " 'Images.SEM Image.SliceImage.HotStageMEMS.heatingvoltage': '',\n",
       " 'Images.SEM Image.SliceImage.HotStageMEMS.targettemperature': '',\n",
       " 'Images.SEM Image.SliceImage.HotStageMEMS.actualtemperature': '',\n",
       " 'Images.SEM Image.SliceImage.HotStageMEMS.heatingpower': '',\n",
       " 'Images.SEM Image.SliceImage.HotStageMEMS.samplebias': '',\n",
       " 'Images.SEM Image.SliceImage.HotStageMEMS.sampleresistance': ''}"
      ]
     },
     "execution_count": 7,
     "metadata": {},
     "output_type": "execute_result"
    }
   ],
   "source": [
    "formattedImgMetadata = formatMetadata(imgMetadata)\n",
    "formattedImgMetadata"
   ]
  },
  {
   "cell_type": "markdown",
   "id": "9017f808",
   "metadata": {},
   "source": [
    "Then we extract only the necessary values according to the map:"
   ]
  },
  {
   "cell_type": "code",
   "execution_count": 8,
   "id": "8628ac24",
   "metadata": {},
   "outputs": [
    {
     "data": {
      "text/plain": [
       "{'Images.SEM Image.SliceImage.System.source': 'FEG',\n",
       " 'Images.SEM Image.SliceImage.System.column': 'Elstar',\n",
       " 'Images.SEM Image.SliceImage.System.stage': '110 x 110',\n",
       " 'Images.SEM Image.SliceImage.System.pump': 'TMP',\n",
       " 'Images.SEM Image.SliceImage.System.esem': 'no',\n",
       " 'Images.SEM Image.SliceImage.System.eucwd': '0.004',\n",
       " 'Images.SEM Image.SliceImage.System.systemtype': 'Helios G4 PFIB CXe'}"
      ]
     },
     "execution_count": 8,
     "metadata": {},
     "output_type": "execute_result"
    }
   ],
   "source": [
    "extractedImgMetadata = extractImageData(formattedImgMetadata, imgMap)\n",
    "extractedImgMetadata"
   ]
  },
  {
   "cell_type": "markdown",
   "id": "f78d00e7",
   "metadata": {},
   "source": [
    "Then it simply needs to be mapped:"
   ]
  },
  {
   "cell_type": "code",
   "execution_count": 9,
   "id": "721dbe15",
   "metadata": {},
   "outputs": [
    {
     "data": {
      "text/plain": [
       "{'acquisition.genericMetadata.pump': 'TMP',\n",
       " 'acquisition.genericMetadata.column': 'Elstar',\n",
       " 'acquisition.genericMetadata.source': 'FEG',\n",
       " 'acquisition.genericMetadata.eucentricWorkingDistance.value': '0.004',\n",
       " 'acquisition.genericMetadata.ESEM': 'no',\n",
       " 'acquisition.genericMetadata.systemType': 'Helios G4 PFIB CXe',\n",
       " 'acquisition.genericMetadata.stage': '110 x 110'}"
      ]
     },
     "execution_count": 9,
     "metadata": {},
     "output_type": "execute_result"
    }
   ],
   "source": [
    "acqImgMetadata = headerMapping(extractedImgMetadata, imgMap)\n",
    "acqImgMetadata"
   ]
  },
  {
   "cell_type": "markdown",
   "id": "adf7add7",
   "metadata": {},
   "source": [
    "Now we have two dictionaries, `acqXmlMetadata` and `acqImgMetadata`. We combine these to get all of the metadata we need for the acquisition in one nicely formatted Python dictionary:"
   ]
  },
  {
   "cell_type": "code",
   "execution_count": 10,
   "id": "f917dff9",
   "metadata": {},
   "outputs": [
    {
     "data": {
      "text/plain": [
       "{'acquisition.genericMetadata.program.programName': 'Auto Slice & View 4',\n",
       " 'acquisition.genericMetadata.program.programVersion': '4.2.1.1982',\n",
       " 'acquisition.genericMetadata.applicationId.identifierValue': 'ASV',\n",
       " 'acquisition.genericMetadata.fileVersion': '1.2',\n",
       " 'acquisition.genericMetadata.projectName': '20200818_AlSi13 XRM tomo2',\n",
       " 'acquisition.genericMetadata.zCutSpacing.value': '2.0000000000000002E-07',\n",
       " 'acquisition.genericMetadata.numberOfCuts': '719',\n",
       " 'acquisition.genericMetadata.pump': 'TMP',\n",
       " 'acquisition.genericMetadata.column': 'Elstar',\n",
       " 'acquisition.genericMetadata.source': 'FEG',\n",
       " 'acquisition.genericMetadata.eucentricWorkingDistance.value': '0.004',\n",
       " 'acquisition.genericMetadata.ESEM': 'no',\n",
       " 'acquisition.genericMetadata.systemType': 'Helios G4 PFIB CXe',\n",
       " 'acquisition.genericMetadata.stage': '110 x 110'}"
      ]
     },
     "execution_count": 10,
     "metadata": {},
     "output_type": "execute_result"
    }
   ],
   "source": [
    "acqMetadata = {**acqXmlMetadata, **acqImgMetadata}\n",
    "acqMetadata"
   ]
  },
  {
   "cell_type": "markdown",
   "id": "79084abf",
   "metadata": {},
   "source": [
    "The acquisition metadata is now ready to be output to the resulting json metadata document."
   ]
  },
  {
   "cell_type": "markdown",
   "id": "9cd82818",
   "metadata": {},
   "source": [
    "# Dataset Handling\n",
    "The generated JSON document can have several elements under \"dataset\", as one acquisition may consist of more than one dataset, each with their own unique parameters (which may be common to images within that dataset, but not shared with other datasets). Therefore, we need a unique element for each dataset in the resulting JSON metadata document.\n",
    "\n",
    "In our example PP13 data acquisition, we have three datasets, but we only focus on two. These are named `SEM Image`, `SEM Image 2`. The name is specified in the xml file, and we can see that that's exactly where the map says we should take it from. Therefore, we should write a function which returns the names of the datasets included in the XML file, just for fun. We already have the XML file as a python dictionary, `xmlMetadata`, so this should be easy. We know from the xml file that datasets falls under `EMProject'`, `'Datasets'`, `'Dataset'`:"
   ]
  },
  {
   "cell_type": "code",
   "execution_count": 11,
   "id": "89157acc",
   "metadata": {},
   "outputs": [
    {
     "data": {
      "text/plain": [
       "['SEM Image', 'SEM Image 2', 'EDS']"
      ]
     },
     "execution_count": 11,
     "metadata": {},
     "output_type": "execute_result"
    }
   ],
   "source": [
    "datasets = xmlMetadata['EMProject']['Datasets']['Dataset']\n",
    "numDatasets = len(datasets)\n",
    "datasetNames = [d['Name'] for d in datasets]\n",
    "\n",
    "datasetNames"
   ]
  },
  {
   "cell_type": "markdown",
   "id": "5da668b6",
   "metadata": {},
   "source": [
    "Now we can use the functions which have already been developed to extract metadata for each dataset. First extract the information we need for each dataset from the map:"
   ]
  },
  {
   "cell_type": "code",
   "execution_count": 12,
   "id": "fee20236",
   "metadata": {},
   "outputs": [],
   "source": [
    "from datasetMapper import extract_metadata_addresses_dataset\n",
    "\n",
    "datasetXmlMap, datasetImgMap = extract_metadata_addresses_dataset(mapFile)"
   ]
  },
  {
   "cell_type": "markdown",
   "id": "10db2e57",
   "metadata": {},
   "source": [
    "Now that we have the necessary maps for each dataset, we must do the following **for each dataset**:\n",
    "\n",
    "1. Extract the values from the xml file\n",
    "2. Extract the values from an image in the dataset\n",
    "3. Map these values according to `datasetXmlMap` and `datasetImgMap`\n",
    "\n",
    "Then store them as an array in a JSON document under datasets\n",
    "\n",
    "To start, let's write a function which does steps 1-3. It should output the metadata dictionary which should be written to the json file."
   ]
  },
  {
   "cell_type": "code",
   "execution_count": 13,
   "id": "f72024b8",
   "metadata": {},
   "outputs": [],
   "source": [
    "import os\n",
    "def processDatasets(datasetNum, imageDirectory):\n",
    "    # Extract xml data for this dataset\n",
    "    mappedEMMetadata = extract_values(datasetXmlMap, xmlMetadata, datasetNum)\n",
    "    \n",
    "    # Read data from image in proper folder\n",
    "    datasetName = datasetNames[datasetNum - 1]\n",
    "    for root, dirs, files in os.walk(imageDirectory):\n",
    "        if os.path.basename(root) == datasetName:\n",
    "            for file in files:\n",
    "                if file.endswith('.tif'):\n",
    "                    imgPath = os.path.join(root, file)\n",
    "                    break\n",
    "            break\n",
    "    imageData = readFile(imgPath)\n",
    "    formattedMetadata = formatMetadata(imageData)\n",
    "    imageMetadata = extractImageData(formattedMetadata, datasetImgMap)\n",
    "    mappedImgMetadata = headerMapping(imageMetadata, datasetImgMap)\n",
    "    \n",
    "    return {**mappedEMMetadata, **mappedImgMetadata}"
   ]
  },
  {
   "cell_type": "markdown",
   "id": "88d06e0d",
   "metadata": {},
   "source": [
    "Now that we have a function which will get the process one dataset, we can loop through the known datasets and produce a list of these dictionaries (we will only do the first two as only those are relevant for us):"
   ]
  },
  {
   "cell_type": "code",
   "execution_count": 14,
   "id": "ad282bd0",
   "metadata": {},
   "outputs": [
    {
     "name": "stdout",
     "output_type": "stream",
     "text": [
      "0 SEM Image\n",
      "1 SEM Image 2\n"
     ]
    }
   ],
   "source": [
    "imgDirectory = '/Users/elias/Desktop/NFDI Tomographiedaten/20200818_AlSi13 XRM tomo2/Images'\n",
    "\n",
    "datasetMetadata = []\n",
    "for i, dataset in enumerate(datasetNames[:2]):\n",
    "    print(i, dataset)\n",
    "    datasetMetadata.append(processDatasets(i+1, imgDirectory))"
   ]
  },
  {
   "cell_type": "markdown",
   "id": "05077206",
   "metadata": {},
   "source": [
    "Now, `datasetMetadata` is an array (list) containing as many mapped and ready dictionaries as there are datasets we wish to extract metadata from (in our case, only two):"
   ]
  },
  {
   "cell_type": "code",
   "execution_count": 15,
   "id": "752f8335",
   "metadata": {
    "scrolled": true
   },
   "outputs": [
    {
     "data": {
      "text/plain": [
       "[{'acquisition.dataset.rows': '1',\n",
       "  'acquisition.dataset.columns': '1',\n",
       "  'acquisition.dataset.tileColumn': '0',\n",
       "  'acquisition.dataset.user.userName': 'user',\n",
       "  'acquisition.dataset.program.programName': '14.5.1.432',\n",
       "  'acquisition.dataset.instrument.beamType': 'EBeam',\n",
       "  'acquisition.dataset.instrument.spot': '1',\n",
       "  'acquisition.dataset.instrument.eBeam.accelerationVoltage.value': '15000',\n",
       "  'acquisition.dataset.instrument.eBeam.beamCurrent.value': '1.6e-009',\n",
       "  'acquisition.dataset.instrument.eBeam.scanRotation.value': '0',\n",
       "  'acquisition.dataset.instrument.eBeam.imageMode.value': 'Normal',\n",
       "  'acquisition.dataset.instrument.eBeam.apertureSetting.size.value': '4.53e-005',\n",
       "  'acquisition.dataset.instrument.eBeam.horizontalFieldWidth.value': '0.000592',\n",
       "  'acquisition.dataset.instrument.eBeam.verticalFieldWidth.value': '0.000394667',\n",
       "  'acquisition.dataset.instrument.eBeam.tiltCorrectionIsOn': 'no',\n",
       "  'acquisition.dataset.instrument.eBeam.dynamicFocusIsOn': 'no',\n",
       "  'acquisition.dataset.instrument.eBeam.dynamicWDIsOn': '',\n",
       "  'acquisition.dataset.instrument.eBeam.lensMode': 'Field-Free',\n",
       "  'acquisition.dataset.instrument.eBeam.tiltCorrectionAngle.value': '0.977384',\n",
       "  'acquisition.dataset.instrument.eBeam.preTilt.value': '',\n",
       "  'acquisition.dataset.instrument.eBeam.magnificationCorrection': 'Off',\n",
       "  'acquisition.dataset.instrument.scan.dwellTime.value': '3e-007',\n",
       "  'acquisition.dataset.instrument.scan.pixelWidth.value': '3.85417e-007',\n",
       "  'acquisition.dataset.instrument.scan.pixelHeight.value': '3.85417e-007',\n",
       "  'acquisition.dataset.instrument.scan.horizontalFieldSize.value': '0.000592',\n",
       "  'acquisition.dataset.instrument.scan.verticalFieldSize.value': '0.000394667',\n",
       "  'acquisition.dataset.instrument.scan.average': '0',\n",
       "  'acquisition.dataset.instrument.scan.integrate': '0',\n",
       "  'acquisition.dataset.instrument.scan.frameTime.value': '0.494592',\n",
       "  'acquisition.dataset.instrument.scan.eScan.mainsLock': 'Off',\n",
       "  'acquisition.dataset.instrument.scan.eScan.lineTime.value': '0.000483',\n",
       "  'acquisition.dataset.instrument.scan.eScan.lineIntegration': '1',\n",
       "  'acquisition.dataset.instrument.scan.eScan.scanInterlacing': '1',\n",
       "  'acquisition.dataset.instrument.imaging.digitalContrast': '1',\n",
       "  'acquisition.dataset.instrument.imaging.digitalBrightness': '0',\n",
       "  'acquisition.dataset.instrument.imaging.digitalGamma': '1',\n",
       "  'acquisition.dataset.instrument.imaging.numberOfPixels.xPixels': '1536',\n",
       "  'acquisition.dataset.instrument.imaging.numberOfPixels.yPixels': '1024',\n",
       "  'acquisition.dataset.instrument.imaging.driftcorrected': 'Off',\n",
       "  'acquisition.dataset.instrument.imaging.zoomfactor': '1.0',\n",
       "  'acquisition.dataset.instrument.imaging.postprocessing': '',\n",
       "  'acquisition.dataset.instrument.imaging.transformation': '',\n",
       "  'acquisition.dataset.instrument.detector.name': 'ETD',\n",
       "  'acquisition.dataset.instrument.hotStageMEMS.heatingCurrent.value': '',\n",
       "  'acquisition.dataset.instrument.hotStageMEMS.heatingVoltage.value': '',\n",
       "  'acquisition.dataset.instrument.hotStageMEMS.targetTemperature.value': '',\n",
       "  'acquisition.dataset.instrument.hotStageMEMS.actualTemperature.value': '',\n",
       "  'acquisition.dataset.instrument.hotStageMEMS.heatingPower.value': '',\n",
       "  'acquisition.dataset.instrument.hotStageMEMS.sampleBias.value': '',\n",
       "  'acquisition.dataset.instrument.hotStageMEMS.sampleResistance.value': ''},\n",
       " {'acquisition.dataset.rows': '1',\n",
       "  'acquisition.dataset.columns': '1',\n",
       "  'acquisition.dataset.tileColumn': '0',\n",
       "  'acquisition.dataset.user.userName': 'user',\n",
       "  'acquisition.dataset.program.programName': '14.5.1.432',\n",
       "  'acquisition.dataset.instrument.beamType': 'EBeam',\n",
       "  'acquisition.dataset.instrument.spot': '1',\n",
       "  'acquisition.dataset.instrument.eBeam.accelerationVoltage.value': '15000',\n",
       "  'acquisition.dataset.instrument.eBeam.beamCurrent.value': '1.6e-009',\n",
       "  'acquisition.dataset.instrument.eBeam.scanRotation.value': '0',\n",
       "  'acquisition.dataset.instrument.eBeam.imageMode.value': 'Normal',\n",
       "  'acquisition.dataset.instrument.eBeam.apertureSetting.size.value': '4.53e-005',\n",
       "  'acquisition.dataset.instrument.eBeam.horizontalFieldWidth.value': '0.000171',\n",
       "  'acquisition.dataset.instrument.eBeam.verticalFieldWidth.value': '0.000154',\n",
       "  'acquisition.dataset.instrument.eBeam.tiltCorrectionIsOn': 'no',\n",
       "  'acquisition.dataset.instrument.eBeam.dynamicFocusIsOn': 'no',\n",
       "  'acquisition.dataset.instrument.eBeam.dynamicWDIsOn': '',\n",
       "  'acquisition.dataset.instrument.eBeam.lensMode': 'Field-Free',\n",
       "  'acquisition.dataset.instrument.eBeam.tiltCorrectionAngle.value': '0.977384',\n",
       "  'acquisition.dataset.instrument.eBeam.preTilt.value': '',\n",
       "  'acquisition.dataset.instrument.eBeam.magnificationCorrection': 'Off',\n",
       "  'acquisition.dataset.instrument.scan.dwellTime.value': '3e-007',\n",
       "  'acquisition.dataset.instrument.scan.pixelWidth.value': '2e-007',\n",
       "  'acquisition.dataset.instrument.scan.pixelHeight.value': '2e-007',\n",
       "  'acquisition.dataset.instrument.scan.horizontalFieldSize.value': '0.000171',\n",
       "  'acquisition.dataset.instrument.scan.verticalFieldSize.value': '0.000154',\n",
       "  'acquisition.dataset.instrument.scan.average': '0',\n",
       "  'acquisition.dataset.instrument.scan.integrate': '0',\n",
       "  'acquisition.dataset.instrument.scan.frameTime.value': '0.214599',\n",
       "  'acquisition.dataset.instrument.scan.eScan.mainsLock': 'Off',\n",
       "  'acquisition.dataset.instrument.scan.eScan.lineTime.value': '0.0002787',\n",
       "  'acquisition.dataset.instrument.scan.eScan.lineIntegration': '1',\n",
       "  'acquisition.dataset.instrument.scan.eScan.scanInterlacing': '1',\n",
       "  'acquisition.dataset.instrument.imaging.digitalContrast': '1',\n",
       "  'acquisition.dataset.instrument.imaging.digitalBrightness': '0',\n",
       "  'acquisition.dataset.instrument.imaging.digitalGamma': '1',\n",
       "  'acquisition.dataset.instrument.imaging.numberOfPixels.xPixels': '1536',\n",
       "  'acquisition.dataset.instrument.imaging.numberOfPixels.yPixels': '1024',\n",
       "  'acquisition.dataset.instrument.imaging.driftcorrected': 'Off',\n",
       "  'acquisition.dataset.instrument.imaging.zoomfactor': '1.0',\n",
       "  'acquisition.dataset.instrument.imaging.postprocessing': '',\n",
       "  'acquisition.dataset.instrument.imaging.transformation': '',\n",
       "  'acquisition.dataset.instrument.detector.name': 'ETD',\n",
       "  'acquisition.dataset.instrument.hotStageMEMS.heatingCurrent.value': '',\n",
       "  'acquisition.dataset.instrument.hotStageMEMS.heatingVoltage.value': '',\n",
       "  'acquisition.dataset.instrument.hotStageMEMS.targetTemperature.value': '',\n",
       "  'acquisition.dataset.instrument.hotStageMEMS.actualTemperature.value': '',\n",
       "  'acquisition.dataset.instrument.hotStageMEMS.heatingPower.value': '',\n",
       "  'acquisition.dataset.instrument.hotStageMEMS.sampleBias.value': '',\n",
       "  'acquisition.dataset.instrument.hotStageMEMS.sampleResistance.value': ''}]"
      ]
     },
     "execution_count": 15,
     "metadata": {},
     "output_type": "execute_result"
    }
   ],
   "source": [
    "datasetMetadata"
   ]
  },
  {
   "cell_type": "markdown",
   "id": "f4797414",
   "metadata": {},
   "source": [
    "# Image Array Handling"
   ]
  },
  {
   "cell_type": "markdown",
   "id": "f44cbff2",
   "metadata": {},
   "source": [
    "The most complex case. We have been able to create a metadata dictionary for a single image, now we need to make a list of metadata dictionaries for each dataset. Start with writing a function which processes a single image:"
   ]
  },
  {
   "cell_type": "code",
   "execution_count": 16,
   "id": "fb28e811",
   "metadata": {},
   "outputs": [],
   "source": [
    "imgMappings = extractImageMappings(mapFile)\n",
    "def processImage(imgPath):\n",
    "    # read image file\n",
    "    rawImgMetadata = readFile(imgPath)\n",
    "    formattedMetadata = formatMetadata(rawImgMetadata)\n",
    "    imageMetadata = extractImageData(formattedMetadata, imgMappings)\n",
    "    mappedImgMetadata = headerMapping(imageMetadata, imgMappings)\n",
    "    \n",
    "    return mappedImgMetadata"
   ]
  },
  {
   "cell_type": "markdown",
   "id": "c80d14b5",
   "metadata": {},
   "source": [
    "This function now processes a single image. It takes in the image path and returns the mapped image metadata as a python dictionary. Next, we simply have to write a function which loops through all of the images in a single dataset. Since we already have the `processDatasets()` function, we can add a stgep which processes the images in that dataset, and we can have it return the list of dictionaries where each dictionary is the metadata extracted fpr each image. Let's do that."
   ]
  },
  {
   "cell_type": "code",
   "execution_count": 17,
   "id": "54d28b96",
   "metadata": {},
   "outputs": [],
   "source": [
    "def processDatasets(datasetNum, imageDirectory):\n",
    "    # Extract xml data for this dataset\n",
    "    mappedEMMetadata = extract_values(datasetXmlMap, xmlMetadata, datasetNum)\n",
    "    \n",
    "    # Read data from image in proper folder\n",
    "    datasetName = datasetNames[datasetNum - 1]\n",
    "    for root, dirs, files in os.walk(imageDirectory):\n",
    "        if os.path.basename(root) == datasetName:\n",
    "            for file in files:\n",
    "                if file.endswith('.tif'):\n",
    "                    imgPath = os.path.join(root, file)\n",
    "                    break\n",
    "            break\n",
    "    imageData = readFile(imgPath)\n",
    "    formattedMetadata = formatMetadata(imageData)\n",
    "    imageMetadata = extractImageData(formattedMetadata, datasetImgMap)\n",
    "    mappedImgMetadata = headerMapping(imageMetadata, datasetImgMap)\n",
    "    \n",
    "    # Repeat to produce list of image metadata dictionaries\n",
    "    imageMetadataList = []\n",
    "    for root, dirs, files in os.walk(imageDirectory):\n",
    "        if os.path.basename(root) == datasetName:\n",
    "            for file in files:\n",
    "                if file.endswith('.tif'):\n",
    "                    imgPath = os.path.join(root, file)\n",
    "                    imageMetadataList.append(processImage(imgPath))\n",
    "    \n",
    "    \n",
    "    return {**mappedEMMetadata, **mappedImgMetadata}, imageMetadataList"
   ]
  },
  {
   "cell_type": "code",
   "execution_count": 18,
   "id": "be5b5d53",
   "metadata": {
    "scrolled": true
   },
   "outputs": [
    {
     "name": "stdout",
     "output_type": "stream",
     "text": [
      "0 SEM Image\n",
      "1 SEM Image 2\n"
     ]
    }
   ],
   "source": [
    "datasetMetadata = []\n",
    "imageMetadata   = []\n",
    "for i, dataset in enumerate(datasetNames[:2]):\n",
    "    print(i, dataset)\n",
    "    datasetMetadataDict, ImageMetadataDict =  processDatasets(i+1, imgDirectory)\n",
    "    datasetMetadata.append(datasetMetadataDict)\n",
    "    imageMetadata.append(ImageMetadataDict)"
   ]
  },
  {
   "cell_type": "markdown",
   "id": "80d7426b",
   "metadata": {},
   "source": [
    "Now we have two variables:\n",
    "\n",
    "* `imageMetadata` of type `list` and `len` 2\n",
    "    * each list inside this has `len` equal to the number of images. And each list within that has a dictionary with the metadata for each individual image\n",
    "* `datasetMetadata` of type `list` and `len` 2\n",
    "\n"
   ]
  },
  {
   "cell_type": "markdown",
   "id": "a747f672",
   "metadata": {},
   "source": [
    "We now have all elements we need to build the JSON file. The Acquisition metadata `acqMetadata`, the dataset metadata `datasetMetadata`, and the image metadata `imageMetadata`. They now need to be exported to a JSON file, so we must write a function which does this.\n",
    "\n",
    "\n",
    "The JSON file needs to be structured as follows:\n",
    "\n",
    "* `acqMetadata` is simply a dictionary where the keys are the dot-separated levels of hierarchy for our json file, and the values the values that shall be stored in the inner most (last) level in the key.\n",
    "* `datasetMetadata` is a list of the metadata for each dataset in the acquisition. Each list element is a dictionary containing metadata structured similarly to `acqMetadata`, where the keys are the dot-separated levels of hierarchy for our json file, and the values the values that shall be stored in the inner most (last) level in the key. The caveat is that each of the elements of this list needs to appear under the 'dataset' level as an array. e.g. the first element under 'dataset' is the first element of the array in the json file as well.\n",
    "* `imageMetadata` is a list of lists of image metadata dictionaries. It has a list for each dataset, and within that list each element is a metadata dictionary for the image. The list corresponding to the dataset needs to go under the 'images' key/level of hierachy in the json such that in the end we have a very deeply nested structure:\n",
    "    * under the dataset level, there should be an array of the metadata the datasets. this array should have the same length as the length of datasetMetadata (we should assert this as a final check that everything is ok). This is where we should place the `datasetMetadata`, each element of this array will have the values from the corresponding elements of `datasetMetadata`. Remember that the keys of each of these dictionaries are the dot-separated levels of hierarchy as they should appear in the json file.\n",
    "    * Very similarly, in the json file under 'dataset', and further, under 'images', we should have an array where each element is the metadata dictionary for each image in that specific dataset.\n",
    "    \n",
    "In summary, we have {acquisition{dataset1{img1,img2,...},dataset2{img1,img2,...}}}. Not including all the stuff in between of course."
   ]
  },
  {
   "cell_type": "code",
   "execution_count": 31,
   "id": "37626421",
   "metadata": {},
   "outputs": [],
   "source": [
    "from datetime import datetime\n",
    "\n",
    "def writeToJSON(acqMetadata, datasetMetadata, imageMetadata, output_directory):\n",
    "    # TODO\n",
    "    print(f\"JSON file created successfully.\")"
   ]
  },
  {
   "cell_type": "code",
   "execution_count": 30,
   "id": "85da0961",
   "metadata": {
    "scrolled": true
   },
   "outputs": [
    {
     "name": "stdout",
     "output_type": "stream",
     "text": [
      "JSON file created successfully.\n"
     ]
    }
   ],
   "source": [
    "output_file_path = \"/Users/elias/Desktop/PP13_Mapping/pp13-mapper/result_jsons\"\n",
    "writeToJSON(acqMetadata, datasetMetadata, imageMetadata, output_file_path)"
   ]
  }
 ],
 "metadata": {
  "kernelspec": {
   "display_name": "Python 3 (ipykernel)",
   "language": "python",
   "name": "python3"
  },
  "language_info": {
   "codemirror_mode": {
    "name": "ipython",
    "version": 3
   },
   "file_extension": ".py",
   "mimetype": "text/x-python",
   "name": "python",
   "nbconvert_exporter": "python",
   "pygments_lexer": "ipython3",
   "version": "3.10.9"
  }
 },
 "nbformat": 4,
 "nbformat_minor": 5
}
