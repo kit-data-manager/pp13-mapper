{
 "cells": [
  {
   "cell_type": "code",
   "execution_count": 118,
   "id": "cbb8330b",
   "metadata": {},
   "outputs": [],
   "source": [
    "from imageMapper import readFile, formatMetadata, extractImageMappings, extractImageData, headerMapping\n",
    "from acquisitionMapper import xml_to_dict, extract_values, traverse_dict\n",
    "import json"
   ]
  },
  {
   "cell_type": "markdown",
   "id": "0b7fa010",
   "metadata": {},
   "source": [
    "# Create Mapped Acquisition Metadata Dictionary"
   ]
  },
  {
   "cell_type": "code",
   "execution_count": 119,
   "id": "6e0dbbe8",
   "metadata": {},
   "outputs": [],
   "source": [
    "def extract_metadata_addressesAcq(json_file):\n",
    "    # Read the JSON file\n",
    "    with open(json_file, 'r') as file:\n",
    "        data = json.load(file)\n",
    "\n",
    "    # Extract the \"acquisition\" information\n",
    "    acquisition_data = data.get('acquisition_main_schema', {})\n",
    "\n",
    "    # Store key-value pairs starting with \"EMProject\"\n",
    "    EM_metadata = {}\n",
    "    Image_metadata = {}\n",
    "    for key, value in acquisition_data.items():\n",
    "        if value.startswith('EMProject'):\n",
    "            EM_metadata[key] = value\n",
    "        elif value.startswith('Images'):\n",
    "            Image_metadata[key] = value\n",
    "\n",
    "    return EM_metadata, Image_metadata\n",
    "\n",
    "import xml.etree.ElementTree as ET\n",
    "\n",
    "def xml_to_dict(file_path):\n",
    "    def parse_element(element):\n",
    "        result = {}\n",
    "        if len(element) == 0:\n",
    "            return element.text\n",
    "        for child in element:\n",
    "            child_data = parse_element(child)\n",
    "            if '}' in child.tag:\n",
    "                child_tag = child.tag.split('}', 1)[1]  # Remove the namespace\n",
    "            else:\n",
    "                child_tag = child.tag\n",
    "            if child_tag in result:\n",
    "                if type(result[child_tag]) is list:\n",
    "                    result[child_tag].append(child_data)\n",
    "                else:\n",
    "                    result[child_tag] = [result[child_tag], child_data]\n",
    "            else:\n",
    "                result[child_tag] = child_data\n",
    "        return result\n",
    "\n",
    "    tree = ET.parse(file_path)\n",
    "    root = tree.getroot()\n",
    "    root_tag = root.tag\n",
    "    if '}' in root_tag:\n",
    "        root_tag = root_tag.split('}', 1)[1]  # Remove the namespace from the root tag\n",
    "    return {root_tag: parse_element(root)}\n",
    "\n",
    "def traverse_dict(data, path):\n",
    "    keys = path.split('.')\n",
    "    result = data\n",
    "    try:\n",
    "        for key in keys:\n",
    "            result = result[key]\n",
    "        return result\n",
    "    except (KeyError, TypeError):\n",
    "        return None\n",
    "    \n",
    "def extract_values(addresses, data, dataset_num = 1):\n",
    "    result = {}\n",
    "    for key, address in addresses.items():\n",
    "        levels = address.split('.')\n",
    "        current_data = data\n",
    "        for level in levels:\n",
    "            # emxml contains multiple instances of \"Dataset\", so it returns a list when asked. We need to tell it\n",
    "            # which dataset we actually want. 1 is SEM Image, 2 is SEM Image 2, and 3 is the one we're not\n",
    "            # interested in. We subtract 1 because indexing begins at zero\n",
    "            # Still needed: check this against image folder name\n",
    "            if level == 'Dataset':\n",
    "                current_data = current_data[level][dataset_num - 1]\n",
    "            else:\n",
    "                current_data = current_data[level]\n",
    "        result[key] = current_data\n",
    "    return result\n",
    "\n",
    "\n",
    "if __name__ == \"__main__\":\n",
    "    \n",
    "    # Define relevant files\n",
    "    emxml_file = '/Users/elias/Desktop/NFDI Tomographiedaten/20200818_AlSi13 XRM tomo2/EMproject.emxml'\n",
    "\n",
    "    # json_file = '/Users/elias/Desktop/PP13_Mapping/pp13-mapper/schemas/sem_fib_nested_schema_map.json'\n",
    "    json_file = '/Users/elias/Desktop/PP13_Mapping/pp13-mapper/schemas/new_sem_fib_nested_schema_map.json'\n",
    "    imgFile = '/Users/elias/Desktop/NFDI Tomographiedaten/20200818_AlSi13 XRM tomo2/Images/SEM Image/SEM Image - SliceImage - 001.tif'\n",
    "    output_path = '/Users/elias/Desktop/PP13_Mapping/pp13-mapper/results/acquisitionMetadata.json'\n",
    "    dataset_num = 1 # 1 or 2\n",
    "\n",
    "    emMetadata, imgMetadata = extract_metadata_addressesAcq(json_file)\n",
    "    emData = xml_to_dict(emxml_file)\n",
    "    mappedEMMetadata = extract_values(emMetadata, emData, dataset_num)\n",
    "    image_data = readFile(imgFile)\n",
    "    formatted_metadata = formatMetadata(image_data)\n",
    "    image_metadata = extractImageData(formatted_metadata, imgMetadata)\n",
    "    mappedImgMetadata = headerMapping(image_metadata, imgMetadata)\n",
    "\n",
    "    # Merge the two metadata dictionaries\n",
    "    acquisitionMetadata = {**mappedEMMetadata, **mappedImgMetadata}"
   ]
  },
  {
   "cell_type": "code",
   "execution_count": 120,
   "id": "e9580e45",
   "metadata": {},
   "outputs": [
    {
     "data": {
      "text/plain": [
       "{'acquisition.genericMetadata.program.programName': 'Auto Slice & View 4',\n",
       " 'acquisition.genericMetadata.program.programVersion': '4.2.1.1982',\n",
       " 'acquisition.genericMetadata.applicationId.identifierValue': 'ASV',\n",
       " 'acquisition.genericMetadata.fileVersion': '1.2',\n",
       " 'acquisition.genericMetadata.projectName': '20200818_AlSi13 XRM tomo2',\n",
       " 'acquisition.genericMetadata.zCutSpacing.value': '2.0000000000000002E-07',\n",
       " 'acquisition.genericMetadata.numberOfCuts': '719',\n",
       " 'acquisition.genericMetadata.pump': 'TMP',\n",
       " 'acquisition.genericMetadata.column': 'Elstar',\n",
       " 'acquisition.genericMetadata.source': 'FEG',\n",
       " 'acquisition.genericMetadata.eucentricWorkingDistance.value': '0.004',\n",
       " 'acquisition.genericMetadata.ESEM': 'no',\n",
       " 'acquisition.genericMetadata.systemType': 'Helios G4 PFIB CXe',\n",
       " 'acquisition.genericMetadata.stage': '110 x 110'}"
      ]
     },
     "execution_count": 120,
     "metadata": {},
     "output_type": "execute_result"
    }
   ],
   "source": [
    "acquisitionMetadata"
   ]
  },
  {
   "cell_type": "markdown",
   "id": "61bc5968",
   "metadata": {},
   "source": [
    "# Create Mapped Dataset Metadata Dictionary"
   ]
  },
  {
   "cell_type": "code",
   "execution_count": 156,
   "id": "dd738454",
   "metadata": {},
   "outputs": [],
   "source": [
    "def extract_metadata_addresses(json_file):\n",
    "    # Read the JSON file\n",
    "    with open(json_file, 'r') as file:\n",
    "        data = json.load(file)\n",
    "\n",
    "    # Extract the \"dataset\" information\n",
    "    acquisition_data = data.get('dataset_schema', {})\n",
    "\n",
    "    # Store key-value pairs starting with \"EMProject\"\n",
    "    EM_metadata = {}\n",
    "    Image_metadata = {}\n",
    "    for key, value in acquisition_data.items():\n",
    "        if value.startswith('EMProject'):\n",
    "            EM_metadata[key] = value\n",
    "        elif value.startswith('Images'):\n",
    "            Image_metadata[key] = value\n",
    "\n",
    "    return EM_metadata, Image_metadata\n",
    "\n",
    "if __name__ == \"__main__\":\n",
    "\n",
    "    emxml_file = '/Users/elias/Desktop/NFDI Tomographiedaten/20200818_AlSi13 XRM tomo2/EMproject.emxml'\n",
    "#     json_file = '/Users/elias/Desktop/PP13_Mapping/pp13-mapper/schemas/sem_fib_nested_schema_map.json'\n",
    "    json_file = '/Users/elias/Desktop/PP13_Mapping/pp13-mapper/schemas/new_sem_fib_nested_schema_map.json'\n",
    "    imgFile = '/Users/elias/Desktop/NFDI Tomographiedaten/20200818_AlSi13 XRM tomo2/Images/SEM Image/SEM Image - SliceImage - 001.tif'\n",
    "    output_path = '/Users/elias/Desktop/PP13_Mapping/pp13-mapper/results/datasetMetadata.json'\n",
    "    dataset_num = 1\n",
    "\n",
    "    xmlMetadata, imgMetadata = extract_metadata_addresses(json_file)\n",
    "    emData = xml_to_dict(emxml_file)\n",
    "    mappedEMMetadata = extract_values(xmlMetadata, emData, dataset_num)\n",
    "    imageData = readFile(imgFile)\n",
    "    formattedMetadata = formatMetadata(imageData)\n",
    "    imageMetadata = extractImageData(formattedMetadata, imgMetadata)\n",
    "    mappedImgMetadata = headerMapping(imageMetadata, imgMetadata)\n",
    "\n",
    "    datasetMetadata = {**mappedEMMetadata, **mappedImgMetadata}"
   ]
  },
  {
   "cell_type": "code",
   "execution_count": 157,
   "id": "419b18d6",
   "metadata": {},
   "outputs": [
    {
     "data": {
      "text/plain": [
       "{'acquisition.dataset.rows': '1',\n",
       " 'acquisition.dataset.columns': '1',\n",
       " 'acquisition.dataset.tileColumn': '0',\n",
       " 'acquisition.dataset.user.userName': 'user',\n",
       " 'acquisition.dataset.program.programName': '14.5.1.432',\n",
       " 'acquisition.dataset.instrument.beamType': 'EBeam',\n",
       " 'acquisition.dataset.instrument.spot': '1',\n",
       " 'acquisition.dataset.instrument.eBeam.accelerationVoltage.value': '15000',\n",
       " 'acquisition.dataset.instrument.eBeam.beamCurrent.value': '1.6e-009',\n",
       " 'acquisition.dataset.instrument.eBeam.scanRotation.value': '0',\n",
       " 'acquisition.dataset.instrument.eBeam.imageMode.value': 'Normal',\n",
       " 'acquisition.dataset.instrument.eBeam.apertureSetting.size.value': '4.53e-005',\n",
       " 'acquisition.dataset.instrument.eBeam.horizontalFieldWidth.value': '0.000592',\n",
       " 'acquisition.dataset.instrument.eBeam.verticalFieldWidth.value': '0.000394667',\n",
       " 'acquisition.dataset.instrument.eBeam.tiltCorrectionIsOn': 'no',\n",
       " 'acquisition.dataset.instrument.eBeam.dynamicFocusIsOn': 'no',\n",
       " 'acquisition.dataset.instrument.eBeam.dynamicWDIsOn': '',\n",
       " 'acquisition.dataset.instrument.eBeam.lensMode': 'Field-Free',\n",
       " 'acquisition.dataset.instrument.eBeam.tiltCorrectionAngle.value': '0.977384',\n",
       " 'acquisition.dataset.instrument.eBeam.preTilt.value': '',\n",
       " 'acquisition.dataset.instrument.eBeam.magnificationCorrection': 'Off',\n",
       " 'acquisition.dataset.instrument.scan.dwellTime.value': '3e-007',\n",
       " 'acquisition.dataset.instrument.scan.pixelWidth.value': '3.85417e-007',\n",
       " 'acquisition.dataset.instrument.scan.pixelHeight.value': '3.85417e-007',\n",
       " 'acquisition.dataset.instrument.scan.horizontalFieldSize.value': '0.000592',\n",
       " 'acquisition.dataset.instrument.scan.verticalFieldSize.value': '0.000394667',\n",
       " 'acquisition.dataset.instrument.scan.average': '0',\n",
       " 'acquisition.dataset.instrument.scan.integrate': '0',\n",
       " 'acquisition.dataset.instrument.scan.frameTime.value': '0.494592',\n",
       " 'acquisition.dataset.instrument.scan.eScan.mainsLock': 'Off',\n",
       " 'acquisition.dataset.instrument.scan.eScan.lineTime.value': '0.000483',\n",
       " 'acquisition.dataset.instrument.scan.eScan.lineIntegration': '1',\n",
       " 'acquisition.dataset.instrument.scan.eScan.scanInterlacing': '1',\n",
       " 'acquisition.dataset.instrument.imaging.digitalContrast': '1',\n",
       " 'acquisition.dataset.instrument.imaging.digitalBrightness': '0',\n",
       " 'acquisition.dataset.instrument.imaging.digitalGamma': '1',\n",
       " 'acquisition.dataset.instrument.imaging.numberOfPixels.xPixels': '1536',\n",
       " 'acquisition.dataset.instrument.imaging.numberOfPixels.yPixels': '1024',\n",
       " 'acquisition.dataset.instrument.imaging.driftcorrected': 'Off',\n",
       " 'acquisition.dataset.instrument.imaging.zoomfactor': '1.0',\n",
       " 'acquisition.dataset.instrument.imaging.postprocessing': '',\n",
       " 'acquisition.dataset.instrument.imaging.transformation': '',\n",
       " 'acquisition.dataset.instrument.detector.name': 'ETD',\n",
       " 'acquisition.dataset.instrument.hotStageMEMS.heatingCurrent.value': '',\n",
       " 'acquisition.dataset.instrument.hotStageMEMS.heatingVoltage.value': '',\n",
       " 'acquisition.dataset.instrument.hotStageMEMS.targetTemperature.value': '',\n",
       " 'acquisition.dataset.instrument.hotStageMEMS.actualTemperature.value': '',\n",
       " 'acquisition.dataset.instrument.hotStageMEMS.heatingPower.value': '',\n",
       " 'acquisition.dataset.instrument.hotStageMEMS.sampleBias.value': '',\n",
       " 'acquisition.dataset.instrument.hotStageMEMS.sampleResistance.value': ''}"
      ]
     },
     "execution_count": 157,
     "metadata": {},
     "output_type": "execute_result"
    }
   ],
   "source": [
    "datasetMetadata"
   ]
  },
  {
   "cell_type": "markdown",
   "id": "2c98125e",
   "metadata": {},
   "source": [
    "# Create Mapped Image Metadata Dictionary"
   ]
  },
  {
   "cell_type": "code",
   "execution_count": 148,
   "id": "5cc8fd06",
   "metadata": {},
   "outputs": [],
   "source": [
    "map_file = '/Users/elias/Desktop/PP13_Mapping/pp13-mapper/schemas/new_sem_fib_nested_schema_map.json'\n",
    "\n",
    "def extractImageMappings(json_file):\n",
    "    with open(json_file) as f:\n",
    "        mappings = json.load(f)\n",
    "    image_mappings = mappings.get('image_schema', {})\n",
    "    return image_mappings\n",
    "    \n",
    "image_data = readFile(imgFile)\n",
    "image_mappings = extractImageMappings(map_file)\n",
    "formatted_metadata = formatMetadata(image_data)\n",
    "image_metadata = extractImageData(formatted_metadata, image_mappings)\n",
    "mapped_metadata = headerMapping(image_metadata, image_mappings)"
   ]
  },
  {
   "cell_type": "code",
   "execution_count": 150,
   "id": "9276ba33",
   "metadata": {},
   "outputs": [
    {
     "data": {
      "text/plain": [
       "{'acquisition.dataset.images.creationTime': '18.08.2020 13:40:03',\n",
       " 'acquisition.dataset.images.stage.workingDistance.value': '0.00402349',\n",
       " 'acquisition.dataset.images.stage.stageX.value': '0.000225271',\n",
       " 'acquisition.dataset.images.stage.stageY.value': '-0.00467317',\n",
       " 'acquisition.dataset.images.stage.stageZ.value': '0.00402333',\n",
       " 'acquisition.dataset.images.stage.stageR.value': '0.648119',\n",
       " 'acquisition.dataset.images.stage.stageTa.value': '0.336851',\n",
       " 'acquisition.dataset.images.stage.stageTb.value': '0',\n",
       " 'acquisition.dataset.images.stage.specTilt.value': '',\n",
       " 'acquisition.dataset.images.stage.activeStage': 'Bulk',\n",
       " 'acquisition.dataset.images.vacuum.chamberPressure.value': '0.00012',\n",
       " 'acquisition.dataset.images.vacuum.gas': '',\n",
       " 'acquisition.dataset.images.vacuum.userMode': 'High vacuum',\n",
       " 'acquisition.dataset.images.vacuum.humidity': '',\n",
       " 'acquisition.dataset.images.temperature.value': '',\n",
       " 'acquisition.dataset.images.specimenCurrent.value': '-9.45602e-010'}"
      ]
     },
     "execution_count": 150,
     "metadata": {},
     "output_type": "execute_result"
    }
   ],
   "source": [
    "mapped_metadata"
   ]
  },
  {
   "cell_type": "markdown",
   "id": "148e3380",
   "metadata": {},
   "source": [
    "# Combine all metadata"
   ]
  },
  {
   "cell_type": "code",
   "execution_count": 153,
   "id": "895a8931",
   "metadata": {},
   "outputs": [],
   "source": [
    "combinedMetadata = {**mapped_metadata, **acquisitionMetadata, **datasetMetadata}"
   ]
  },
  {
   "cell_type": "markdown",
   "id": "0c05c7b1",
   "metadata": {},
   "source": [
    "# Write to JSON Function which combines them to look like the schema"
   ]
  },
  {
   "cell_type": "code",
   "execution_count": 154,
   "id": "ae5f18eb",
   "metadata": {},
   "outputs": [],
   "source": [
    "import json\n",
    "\n",
    "def writeMetadataToJson(metadata, output_path):\n",
    "    json_data = {}\n",
    "\n",
    "    for key, value in metadata.items():\n",
    "        keys = key.split('.')\n",
    "        temp = json_data\n",
    "        for k in keys[:-1]:\n",
    "            temp = temp.setdefault(k, {})\n",
    "        temp[keys[-1]] = value\n",
    "\n",
    "    with open(output_path, 'w') as file:\n",
    "        json.dump(json_data, file, indent=4)\n",
    "\n",
    "    print(\"JSON document created successfully at\", output_path)"
   ]
  },
  {
   "cell_type": "code",
   "execution_count": 155,
   "id": "0dc88cc5",
   "metadata": {},
   "outputs": [
    {
     "name": "stdout",
     "output_type": "stream",
     "text": [
      "JSON document created successfully at combined.json\n"
     ]
    }
   ],
   "source": [
    "writeMetadataToJson(combinedMetadata, 'combined.json')"
   ]
  }
 ],
 "metadata": {
  "kernelspec": {
   "display_name": "Python 3 (ipykernel)",
   "language": "python",
   "name": "python3"
  },
  "language_info": {
   "codemirror_mode": {
    "name": "ipython",
    "version": 3
   },
   "file_extension": ".py",
   "mimetype": "text/x-python",
   "name": "python",
   "nbconvert_exporter": "python",
   "pygments_lexer": "ipython3",
   "version": "3.10.9"
  }
 },
 "nbformat": 4,
 "nbformat_minor": 5
}
