{
 "cells": [
  {
   "cell_type": "code",
   "execution_count": 44,
   "id": "ceaee555",
   "metadata": {},
   "outputs": [],
   "source": [
    "from imageMapper import readFile, formatMetadata, extractImageMappings, extractImageData, headerMapping\n",
    "from acquisitionMapper import xml_to_dict, extract_values, traverse_dict\n",
    "import json"
   ]
  },
  {
   "cell_type": "markdown",
   "id": "d02aa01e",
   "metadata": {},
   "source": [
    "# Create Mapped Acquisition Metadata Dictionary"
   ]
  },
  {
   "cell_type": "code",
   "execution_count": 45,
   "id": "c802a6c2",
   "metadata": {},
   "outputs": [],
   "source": [
    "def extract_metadata_addressesAcq(json_file):\n",
    "    # Read the JSON file\n",
    "    with open(json_file, 'r') as file:\n",
    "        data = json.load(file)\n",
    "\n",
    "    # Extract the \"acquisition\" information\n",
    "    acquisition_data = data.get('acquisition', {})\n",
    "\n",
    "    # Store key-value pairs starting with \"EMProject\"\n",
    "    EM_metadata = {}\n",
    "    Image_metadata = {}\n",
    "    for key, value in acquisition_data.items():\n",
    "        if value.startswith('EMProject'):\n",
    "            EM_metadata[key] = value\n",
    "        elif value.startswith('Images'):\n",
    "            Image_metadata[key] = value\n",
    "\n",
    "    return EM_metadata, Image_metadata\n",
    "\n",
    "import xml.etree.ElementTree as ET\n",
    "\n",
    "def xml_to_dict(file_path):\n",
    "    def parse_element(element):\n",
    "        result = {}\n",
    "        if len(element) == 0:\n",
    "            return element.text\n",
    "        for child in element:\n",
    "            child_data = parse_element(child)\n",
    "            if '}' in child.tag:\n",
    "                child_tag = child.tag.split('}', 1)[1]  # Remove the namespace\n",
    "            else:\n",
    "                child_tag = child.tag\n",
    "            if child_tag in result:\n",
    "                if type(result[child_tag]) is list:\n",
    "                    result[child_tag].append(child_data)\n",
    "                else:\n",
    "                    result[child_tag] = [result[child_tag], child_data]\n",
    "            else:\n",
    "                result[child_tag] = child_data\n",
    "        return result\n",
    "\n",
    "    tree = ET.parse(file_path)\n",
    "    root = tree.getroot()\n",
    "    root_tag = root.tag\n",
    "    if '}' in root_tag:\n",
    "        root_tag = root_tag.split('}', 1)[1]  # Remove the namespace from the root tag\n",
    "    return {root_tag: parse_element(root)}\n",
    "\n",
    "def traverse_dict(data, path):\n",
    "    keys = path.split('.')\n",
    "    result = data\n",
    "    try:\n",
    "        for key in keys:\n",
    "            result = result[key]\n",
    "        return result\n",
    "    except (KeyError, TypeError):\n",
    "        return None\n",
    "    \n",
    "def extract_values(addresses, data, dataset_num = 1):\n",
    "    result = {}\n",
    "    for key, address in addresses.items():\n",
    "        levels = address.split('.')\n",
    "        current_data = data\n",
    "        for level in levels:\n",
    "            # emxml contains multiple instances of \"Dataset\", so it returns a list when asked. We need to tell it\n",
    "            # which dataset we actually want. 1 is SEM Image, 2 is SEM Image 2, and 3 is the one we're not\n",
    "            # interested in. We subtract 1 because indexing begins at zero\n",
    "            # Still needed: check this against image folder name\n",
    "            if level == 'Dataset':\n",
    "                current_data = current_data[level][dataset_num - 1]\n",
    "            else:\n",
    "                current_data = current_data[level]\n",
    "        result[key] = current_data\n",
    "    return result\n",
    "\n",
    "\n",
    "if __name__ == \"__main__\":\n",
    "    # Define relevant files\n",
    "    emxml_file = '/Users/elias/Desktop/NFDI Tomographiedaten/20200818_AlSi13 XRM tomo2/EMproject.emxml'\n",
    "    json_file = '/Users/elias/Desktop/PP13_Mapping/pp13-mapper/schemas/sem_fib_nested_schema_map.json'\n",
    "    imgFile = '/Users/elias/Desktop/NFDI Tomographiedaten/20200818_AlSi13 XRM tomo2/Images/SEM Image/SEM Image - SliceImage - 001.tif'\n",
    "    output_path = '/Users/elias/Desktop/PP13_Mapping/pp13-mapper/results/acquisitionMetadata.json'\n",
    "    dataset_num = 1 # 1 or 2\n",
    "\n",
    "    emMetadata, imgMetadata = extract_metadata_addressesAcq(json_file)\n",
    "    emData = xml_to_dict(emxml_file)\n",
    "    mappedEMMetadata = extract_values(emMetadata, emData, dataset_num)\n",
    "    image_data = readFile(imgFile)\n",
    "    formatted_metadata = formatMetadata(image_data)\n",
    "    image_metadata = extractImageData(formatted_metadata, imgMetadata)\n",
    "    mappedImgMetadata = headerMapping(image_metadata, imgMetadata)\n",
    "\n",
    "    # Merge the two metadata dictionaries\n",
    "    acquisitionMetadata = {**mappedEMMetadata, **mappedImgMetadata}"
   ]
  },
  {
   "cell_type": "code",
   "execution_count": 46,
   "id": "4d4e073c",
   "metadata": {},
   "outputs": [
    {
     "data": {
      "text/plain": [
       "{'acquisition.genericMetadata.program.programName': 'Auto Slice & View 4',\n",
       " 'acquisition.genericMetadata.program.programVersion': '4.2.1.1982',\n",
       " 'acquisition.genericMetadata.applicationId.identifierValue': 'ASV',\n",
       " 'acquisition.genericMetadata.fileVersion': '1.2',\n",
       " 'acquisition.genericMetadata.projectName': '20200818_AlSi13 XRM tomo2',\n",
       " 'acquisition.genericMetadata.zCutSpacing.value': '2.0000000000000002E-07',\n",
       " 'acquisition.genericMetadata.numberOfCuts': '719',\n",
       " 'acquisition.genericMetadata.pump': 'TMP',\n",
       " 'acquisition.genericMetadata.column': 'Elstar',\n",
       " 'acquisition.genericMetadata.source': 'FEG',\n",
       " 'acquisition.genericMetadata.eucentricWorkingDistance.value': '0.004',\n",
       " 'acquisition.genericMetadata.ESEM': 'no',\n",
       " 'acquisition.genericMetadata.systemType': 'Helios G4 PFIB CXe',\n",
       " 'acquisition.genericMetadata.stage': '110 x 110'}"
      ]
     },
     "execution_count": 46,
     "metadata": {},
     "output_type": "execute_result"
    }
   ],
   "source": [
    "acquisitionMetadata"
   ]
  },
  {
   "cell_type": "markdown",
   "id": "2875aaa4",
   "metadata": {},
   "source": [
    "# Create Mapped Dataset Metadata Dictionary"
   ]
  },
  {
   "cell_type": "code",
   "execution_count": 47,
   "id": "2bc21d1a",
   "metadata": {},
   "outputs": [],
   "source": [
    "def extract_metadata_addresses(json_file):\n",
    "    # Read the JSON file\n",
    "    with open(json_file, 'r') as file:\n",
    "        data = json.load(file)\n",
    "\n",
    "    # Extract the \"acquisition\" information\n",
    "    acquisition_data = data.get('dataset', {})\n",
    "\n",
    "    # Store key-value pairs starting with \"EMProject\"\n",
    "    EM_metadata = {}\n",
    "    Image_metadata = {}\n",
    "    for key, value in acquisition_data.items():\n",
    "        if value.startswith('EMProject'):\n",
    "            EM_metadata[key] = value\n",
    "        elif value.startswith('Images'):\n",
    "            Image_metadata[key] = value\n",
    "\n",
    "    return EM_metadata, Image_metadata\n",
    "\n",
    "if __name__ == \"__main__\":\n",
    "\n",
    "    emxml_file = '/Users/elias/Desktop/NFDI Tomographiedaten/20200818_AlSi13 XRM tomo2/EMproject.emxml'\n",
    "    json_file = '/Users/elias/Desktop/PP13_Mapping/pp13-mapper/schemas/sem_fib_nested_schema_map.json'\n",
    "    imgFile = '/Users/elias/Desktop/NFDI Tomographiedaten/20200818_AlSi13 XRM tomo2/Images/SEM Image/SEM Image - SliceImage - 001.tif'\n",
    "    output_path = '/Users/elias/Desktop/PP13_Mapping/pp13-mapper/results/datasetMetadata.json'\n",
    "    dataset_num = 1\n",
    "\n",
    "    xmlMetadata, imgMetadata = extract_metadata_addresses(json_file)\n",
    "    emData = xml_to_dict(emxml_file)\n",
    "    mappedEMMetadata = extract_values(xmlMetadata, emData, dataset_num)\n",
    "    imageData = readFile(imgFile)\n",
    "    formattedMetadata = formatMetadata(imageData)\n",
    "    imageMetadata = extractImageData(formattedMetadata, imgMetadata)\n",
    "    mappedImgMetadata = headerMapping(imageMetadata, imgMetadata)\n",
    "\n",
    "    datasetMetadata = {**mappedEMMetadata, **mappedImgMetadata}"
   ]
  },
  {
   "cell_type": "code",
   "execution_count": 48,
   "id": "27cbf284",
   "metadata": {},
   "outputs": [
    {
     "data": {
      "text/plain": [
       "{'acquisition.dataset.entry.rows': '1',\n",
       " 'acquisition.dataset.entry.columns': '1',\n",
       " 'acquisition.dataset.entry.tileColumn': '0',\n",
       " 'acquisition.dataset.entry.user.userName': 'user',\n",
       " 'acquisition.dataset.entry.program.programName': '14.5.1.432',\n",
       " 'acquisition.dataset.entry.instrument.beamType': 'EBeam',\n",
       " 'acquisition.dataset.entry.instrument.spot': '1',\n",
       " 'acquisition.dataset.entry.instrument.eBeam.accelerationVoltage.value': '15000',\n",
       " 'acquisition.dataset.entry.instrument.eBeam.beamCurrent.value': '1.6e-009',\n",
       " 'acquisition.dataset.entry.instrument.eBeam.scanRotation.value': '0',\n",
       " 'acquisition.dataset.entry.instrument.eBeam.imageMode.value': 'Normal',\n",
       " 'acquisition.dataset.entry.instrument.eBeam.apertureSetting.size.value': '4.53e-005',\n",
       " 'acquisition.dataset.entry.instrument.eBeam.horizontalFieldWidth.value': '0.000592',\n",
       " 'acquisition.dataset.entry.instrument.eBeam.verticalFieldWidth.value': '0.000394667',\n",
       " 'acquisition.dataset.entry.instrument.eBeam.tiltCorrectionIsOn': 'no',\n",
       " 'acquisition.dataset.entry.instrument.eBeam.dynamicFocusIsOn': 'no',\n",
       " 'acquisition.dataset.entry.instrument.eBeam.dynamicWDIsOn': '',\n",
       " 'acquisition.dataset.entry.instrument.eBeam.lensMode': 'Field-Free',\n",
       " 'acquisition.dataset.entry.instrument.eBeam.tiltCorrectionAngle.value': '0.977384',\n",
       " 'acquisition.dataset.entry.instrument.eBeam.preTilt.value': '',\n",
       " 'acquisition.dataset.entry.instrument.eBeam.magnificationCorrection': 'Off',\n",
       " 'acquisition.dataset.entry.instrument.scan.dwellTime.value': '3e-007',\n",
       " 'acquisition.dataset.entry.instrument.scan.pixelWidth.value': '3.85417e-007',\n",
       " 'acquisition.dataset.entry.instrument.scan.pixelHeight.value': '3.85417e-007',\n",
       " 'acquisition.dataset.entry.instrument.scan.horizontalFieldSize.value': '0.000592',\n",
       " 'acquisition.dataset.entry.instrument.scan.verticalFieldSize.value': '0.000394667',\n",
       " 'acquisition.dataset.entry.instrument.scan.average': '0',\n",
       " 'acquisition.dataset.entry.instrument.scan.integrate': '0',\n",
       " 'acquisition.dataset.entry.instrument.scan.frameTime.value': '0.494592',\n",
       " 'acquisition.dataset.entry.instrument.scan.eScan.mainsLock': 'Off',\n",
       " 'acquisition.dataset.entry.instrument.scan.eScan.lineTime.value': '0.000483',\n",
       " 'acquisition.dataset.entry.instrument.scan.eScan.lineIntegration': '1',\n",
       " 'acquisition.dataset.entry.instrument.scan.eScan.scanInterlacing': '1',\n",
       " 'acquisition.dataset.entry.instrument.imaging.digitalContrast': '1',\n",
       " 'acquisition.dataset.entry.instrument.imaging.digitalBrightness': '0',\n",
       " 'acquisition.dataset.entry.instrument.imaging.digitalGamma': '1',\n",
       " 'acquisition.dataset.entry.instrument.imaging.numberOfPixels.xPixels': '1536',\n",
       " 'acquisition.dataset.entry.instrument.imaging.numberOfPixels.yPixels': '1024',\n",
       " 'acquisition.dataset.entry.instrument.imaging.driftcorrected': 'Off',\n",
       " 'acquisition.dataset.entry.instrument.imaging.zoomfactor': '1.0',\n",
       " 'acquisition.dataset.entry.instrument.imaging.postprocessing': '',\n",
       " 'acquisition.dataset.entry.instrument.imaging.transformation': '',\n",
       " 'acquisition.dataset.entry.instrument.detector.name': 'ETD',\n",
       " 'acquisition.dataset.entry.instrument.hotStageMEMS.heatingCurrent.value': '',\n",
       " 'acquisition.dataset.entry.instrument.hotStageMEMS.heatingVoltage.value': '',\n",
       " 'acquisition.dataset.entry.instrument.hotStageMEMS.targetTemperature.value': '',\n",
       " 'acquisition.dataset.entry.instrument.hotStageMEMS.actualTemperature.value': '',\n",
       " 'acquisition.dataset.entry.instrument.hotStageMEMS.heatingPower.value': '',\n",
       " 'acquisition.dataset.entry.instrument.hotStageMEMS.sampleBias.value': '',\n",
       " 'acquisition.dataset.entry.instrument.hotStageMEMS.sampleResistance.value': ''}"
      ]
     },
     "execution_count": 48,
     "metadata": {},
     "output_type": "execute_result"
    }
   ],
   "source": [
    "datasetMetadata"
   ]
  },
  {
   "cell_type": "markdown",
   "id": "f04cb650",
   "metadata": {},
   "source": [
    "# Create Mapped Image Metadata Dictionary"
   ]
  },
  {
   "cell_type": "code",
   "execution_count": 49,
   "id": "2915530f",
   "metadata": {},
   "outputs": [],
   "source": [
    "map_file = \"/Users/elias/Desktop/PP13_Mapping/pp13-mapper/schemas/sem_fib_nested_schema_map.json\"\n",
    "    \n",
    "image_data = readFile(imgFile)\n",
    "image_mappings = extractImageMappings(map_file)\n",
    "formatted_metadata = formatMetadata(image_data)\n",
    "image_metadata = extractImageData(formatted_metadata, image_mappings)\n",
    "mapped_metadata = headerMapping(image_metadata, image_mappings)"
   ]
  },
  {
   "cell_type": "code",
   "execution_count": 50,
   "id": "31fcfd97",
   "metadata": {},
   "outputs": [
    {
     "data": {
      "text/plain": [
       "{'acquisition.dataset.entry.images.entry.creationTime': '18.08.2020 13:40:03',\n",
       " 'acquisition.dataset.entry.images.entry.stage.workingDistance.value': '0.00402349',\n",
       " 'acquisition.dataset.entry.images.entry.stage.stageX.value': '0.000225271',\n",
       " 'acquisition.dataset.entry.images.entry.stage.stageY.value': '-0.00467317',\n",
       " 'acquisition.dataset.entry.images.entry.stage.stageZ.value': '0.00402333',\n",
       " 'acquisition.dataset.entry.images.entry.stage.stageR.value': '0.648119',\n",
       " 'acquisition.dataset.entry.images.entry.stage.stageTa.value': '0.336851',\n",
       " 'acquisition.dataset.entry.images.entry.stage.stageTb.value': '0',\n",
       " 'acquisition.dataset.entry.images.entry.stage.specTilt.value': '',\n",
       " 'acquisition.dataset.entry.images.entry.stage.activeStage': 'Bulk',\n",
       " 'acquisition.dataset.entry.images.entry.vacuum.chamberPressure.value': '0.00012',\n",
       " 'acquisition.dataset.entry.images.entry.vacuum.gas': '',\n",
       " 'acquisition.dataset.entry.images.entry.vacuum.userMode': 'High vacuum',\n",
       " 'acquisition.dataset.entry.images.entry.vacuum.humidity': '',\n",
       " 'acquisition.dataset.entry.images.entry.temperature.value': '',\n",
       " 'acquisition.dataset.entry.images.entry.specimenCurrent.value': '-9.45602e-010'}"
      ]
     },
     "execution_count": 50,
     "metadata": {},
     "output_type": "execute_result"
    }
   ],
   "source": [
    "mapped_metadata"
   ]
  },
  {
   "cell_type": "markdown",
   "id": "de627c4d",
   "metadata": {},
   "source": [
    "# Combine all metadata"
   ]
  },
  {
   "cell_type": "code",
   "execution_count": 56,
   "id": "9032b41b",
   "metadata": {},
   "outputs": [],
   "source": [
    "combinedMetadata = {**mapped_metadata, **acquisitionMetadata, **datasetMetadata}"
   ]
  },
  {
   "cell_type": "markdown",
   "id": "0342cb87",
   "metadata": {},
   "source": [
    "# Write to JSON Function which combines them to look like the schema"
   ]
  },
  {
   "cell_type": "code",
   "execution_count": 57,
   "id": "db1db475",
   "metadata": {},
   "outputs": [],
   "source": [
    "import json\n",
    "\n",
    "def writeMetadataToJson(metadata, output_path):\n",
    "    json_data = {}\n",
    "\n",
    "    for key, value in metadata.items():\n",
    "        keys = key.split('.')\n",
    "        temp = json_data\n",
    "        for k in keys[:-1]:\n",
    "            temp = temp.setdefault(k, {})\n",
    "        temp[keys[-1]] = value\n",
    "\n",
    "    with open(output_path, 'w') as file:\n",
    "        json.dump(json_data, file, indent=4)\n",
    "\n",
    "    print(\"JSON document created successfully at\", output_path)"
   ]
  },
  {
   "cell_type": "code",
   "execution_count": 58,
   "id": "3e45d4bd",
   "metadata": {},
   "outputs": [
    {
     "name": "stdout",
     "output_type": "stream",
     "text": [
      "JSON document created successfully at combined.json\n"
     ]
    }
   ],
   "source": [
    "writeMetadataToJson(combinedMetadata, 'combined.json')"
   ]
  }
 ],
 "metadata": {
  "kernelspec": {
   "display_name": "Python 3 (ipykernel)",
   "language": "python",
   "name": "python3"
  },
  "language_info": {
   "codemirror_mode": {
    "name": "ipython",
    "version": 3
   },
   "file_extension": ".py",
   "mimetype": "text/x-python",
   "name": "python",
   "nbconvert_exporter": "python",
   "pygments_lexer": "ipython3",
   "version": "3.10.9"
  }
 },
 "nbformat": 4,
 "nbformat_minor": 5
}
