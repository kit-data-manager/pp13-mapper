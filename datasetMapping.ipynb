{
 "cells": [
  {
   "cell_type": "code",
   "execution_count": 10,
   "id": "a07c09c3",
   "metadata": {},
   "outputs": [],
   "source": [
    "from imageMapper import readFile, formatMetadata, extractImageMappings, extractImageData, headerMapping, writeMetadataToJson\n",
    "from acquisitionMapper import xml_to_dict, extract_values, traverse_dict\n",
    "import json\n",
    "\n",
    "emxml_file = '/Users/elias/Desktop/NFDI Tomographiedaten/20200818_AlSi13 XRM tomo2/EMproject.emxml'\n",
    "json_file = '/Users/elias/Desktop/PP13_Mapping/pp13-mapper/schemas/sem_fib_nested_schema_map.json'\n",
    "imgFile = '/Users/elias/Desktop/NFDI Tomographiedaten/20200818_AlSi13 XRM tomo2/Images/SEM Image/SEM Image - SliceImage - 001.tif'\n",
    "output_path = '/Users/elias/Desktop/PP13_Mapping/pp13-mapper/results/datasetMetadata.json'\n",
    "dataset_num = 1"
   ]
  },
  {
   "cell_type": "code",
   "execution_count": 11,
   "id": "85c11248",
   "metadata": {},
   "outputs": [],
   "source": [
    "def extract_metadata_addresses(json_file):\n",
    "    # Read the JSON file\n",
    "    with open(json_file, 'r') as file:\n",
    "        data = json.load(file)\n",
    "\n",
    "    # Extract the \"acquisition\" information\n",
    "    acquisition_data = data.get('dataset', {})\n",
    "\n",
    "    # Store key-value pairs starting with \"EMProject\"\n",
    "    EM_metadata = {}\n",
    "    Image_metadata = {}\n",
    "    for key, value in acquisition_data.items():\n",
    "        if value.startswith('EMProject'):\n",
    "            EM_metadata[key] = value\n",
    "        elif value.startswith('Images'):\n",
    "            Image_metadata[key] = value\n",
    "\n",
    "    return EM_metadata, Image_metadata"
   ]
  },
  {
   "cell_type": "code",
   "execution_count": null,
   "id": "e050fdc1",
   "metadata": {},
   "outputs": [],
   "source": []
  },
  {
   "cell_type": "code",
   "execution_count": 13,
   "id": "b0b455bc",
   "metadata": {},
   "outputs": [
    {
     "name": "stdout",
     "output_type": "stream",
     "text": [
      "Successfully processed. Results are in /Users/elias/Desktop/PP13_Mapping/pp13-mapper/results/datasetMetadata.json\n"
     ]
    }
   ],
   "source": [
    "xmlMetadata, imgMetadata = extract_metadata_addresses(json_file)\n",
    "emData = xml_to_dict(emxml_file)\n",
    "mappedEMMetadata = extract_values(xmlMetadata, emData, dataset_num)\n",
    "imageData = readFile(imgFile)\n",
    "formattedMetadata = formatMetadata(imageData)\n",
    "imageMetadata = extractImageData(formattedMetadata, imgMetadata)\n",
    "mappedImgMetadata = headerMapping(imageMetadata, imgMetadata)\n",
    "\n",
    "datasetMetadata = {**mappedEMMetadata, **mappedImgMetadata}\n",
    "\n",
    "writeMetadataToJson(datasetMetadata, output_path)\n",
    "print(f'Successfully processed. Results are in {output_path}')"
   ]
  }
 ],
 "metadata": {
  "kernelspec": {
   "display_name": "Python 3 (ipykernel)",
   "language": "python",
   "name": "python3"
  },
  "language_info": {
   "codemirror_mode": {
    "name": "ipython",
    "version": 3
   },
   "file_extension": ".py",
   "mimetype": "text/x-python",
   "name": "python",
   "nbconvert_exporter": "python",
   "pygments_lexer": "ipython3",
   "version": "3.10.9"
  }
 },
 "nbformat": 4,
 "nbformat_minor": 5
}
